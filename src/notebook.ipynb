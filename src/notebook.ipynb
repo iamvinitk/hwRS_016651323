{
 "cells": [
  {
   "cell_type": "code",
   "execution_count": 1,
   "metadata": {},
   "outputs": [],
   "source": [
    "from math import sqrt\n",
    "\n",
    "import numpy as np\n",
    "import warnings\n",
    "import pandas as pd\n",
    "import seaborn as sns\n",
    "import tensorflow as tf\n",
    "from keras.layers import BatchNormalization\n",
    "from keras.preprocessing.text import Tokenizer\n",
    "from keras.utils import pad_sequences\n",
    "from matplotlib import pyplot as plt\n",
    "from sklearn.metrics import mean_squared_error\n",
    "from sklearn.model_selection import train_test_split, GridSearchCV\n",
    "from sklearn.preprocessing import MinMaxScaler, LabelEncoder\n",
    "from surprise import Reader, Dataset, SVD\n",
    "from tensorflow.python.keras.callbacks import EarlyStopping, LearningRateScheduler, ReduceLROnPlateau\n",
    "from tensorflow.python.keras.layers import Embedding, LSTM, Dense, Dropout, Input, Concatenate, Conv1D, \\\n",
    "    GlobalMaxPooling1D, Layer\n",
    "from tensorflow.python.keras.models import Model\n",
    "\n",
    "from nltk.tokenize import word_tokenize\n",
    "from nltk.corpus import stopwords\n",
    "from nltk.stem import WordNetLemmatizer\n",
    "import nltk\n",
    "import re\n",
    "from unidecode import unidecode\n",
    "import swifter\n",
    "\n",
    "from xgboost import XGBClassifier, XGBRegressor\n",
    "from sklearn.decomposition import PCA\n",
    "from sklearn.preprocessing import StandardScaler"
   ]
  },
  {
   "cell_type": "code",
   "execution_count": 2,
   "metadata": {},
   "outputs": [],
   "source": [
    "# show complete dataframe in console\n",
    "pd.set_option('display.max_columns', None)\n",
    "\n",
    "warnings.filterwarnings('ignore')\n",
    "%matplotlib inline"
   ]
  },
  {
   "cell_type": "markdown",
   "metadata": {},
   "source": [
    "# Import Data"
   ]
  },
  {
   "cell_type": "code",
   "execution_count": 3,
   "metadata": {},
   "outputs": [],
   "source": [
    "train = pd.read_csv(\"./dataset/train.csv\")\n",
    "test = pd.read_csv(\"./dataset/test.csv\")\n",
    "books = pd.read_csv(\"./dataset/cleaned_books.csv\")\n",
    "users = pd.read_csv(\"./dataset/user_info.csv\")"
   ]
  },
  {
   "cell_type": "markdown",
   "metadata": {},
   "source": [
    "# EDA"
   ]
  },
  {
   "cell_type": "markdown",
   "metadata": {},
   "source": [
    "### Train"
   ]
  },
  {
   "cell_type": "code",
   "execution_count": 4,
   "metadata": {},
   "outputs": [
    {
     "data": {
      "text/html": [
       "<div>\n",
       "<style scoped>\n",
       "    .dataframe tbody tr th:only-of-type {\n",
       "        vertical-align: middle;\n",
       "    }\n",
       "\n",
       "    .dataframe tbody tr th {\n",
       "        vertical-align: top;\n",
       "    }\n",
       "\n",
       "    .dataframe thead th {\n",
       "        text-align: right;\n",
       "    }\n",
       "</style>\n",
       "<table border=\"1\" class=\"dataframe\">\n",
       "  <thead>\n",
       "    <tr style=\"text-align: right;\">\n",
       "      <th></th>\n",
       "      <th>User_Id</th>\n",
       "      <th>Book_Id</th>\n",
       "      <th>Rating</th>\n",
       "    </tr>\n",
       "  </thead>\n",
       "  <tbody>\n",
       "    <tr>\n",
       "      <th>0</th>\n",
       "      <td>206641</td>\n",
       "      <td>56067</td>\n",
       "      <td>6</td>\n",
       "    </tr>\n",
       "    <tr>\n",
       "      <th>1</th>\n",
       "      <td>96769</td>\n",
       "      <td>327469</td>\n",
       "      <td>10</td>\n",
       "    </tr>\n",
       "    <tr>\n",
       "      <th>2</th>\n",
       "      <td>149881</td>\n",
       "      <td>325723</td>\n",
       "      <td>5</td>\n",
       "    </tr>\n",
       "    <tr>\n",
       "      <th>3</th>\n",
       "      <td>104656</td>\n",
       "      <td>115894</td>\n",
       "      <td>8</td>\n",
       "    </tr>\n",
       "    <tr>\n",
       "      <th>4</th>\n",
       "      <td>107921</td>\n",
       "      <td>236817</td>\n",
       "      <td>10</td>\n",
       "    </tr>\n",
       "  </tbody>\n",
       "</table>\n",
       "</div>"
      ],
      "text/plain": [
       "   User_Id  Book_Id  Rating\n",
       "0   206641    56067       6\n",
       "1    96769   327469      10\n",
       "2   149881   325723       5\n",
       "3   104656   115894       8\n",
       "4   107921   236817      10"
      ]
     },
     "execution_count": 4,
     "metadata": {},
     "output_type": "execute_result"
    }
   ],
   "source": [
    "train.head()"
   ]
  },
  {
   "cell_type": "code",
   "execution_count": 5,
   "metadata": {},
   "outputs": [
    {
     "data": {
      "text/html": [
       "<div>\n",
       "<style scoped>\n",
       "    .dataframe tbody tr th:only-of-type {\n",
       "        vertical-align: middle;\n",
       "    }\n",
       "\n",
       "    .dataframe tbody tr th {\n",
       "        vertical-align: top;\n",
       "    }\n",
       "\n",
       "    .dataframe thead th {\n",
       "        text-align: right;\n",
       "    }\n",
       "</style>\n",
       "<table border=\"1\" class=\"dataframe\">\n",
       "  <thead>\n",
       "    <tr style=\"text-align: right;\">\n",
       "      <th></th>\n",
       "      <th>User_Id</th>\n",
       "      <th>Book_Id</th>\n",
       "      <th>Rating</th>\n",
       "    </tr>\n",
       "  </thead>\n",
       "  <tbody>\n",
       "    <tr>\n",
       "      <th>count</th>\n",
       "      <td>303216.000000</td>\n",
       "      <td>303216.000000</td>\n",
       "      <td>303216.000000</td>\n",
       "    </tr>\n",
       "    <tr>\n",
       "      <th>mean</th>\n",
       "      <td>140831.385448</td>\n",
       "      <td>167938.250904</td>\n",
       "      <td>7.755072</td>\n",
       "    </tr>\n",
       "    <tr>\n",
       "      <th>std</th>\n",
       "      <td>79826.132368</td>\n",
       "      <td>96866.070691</td>\n",
       "      <td>86.018692</td>\n",
       "    </tr>\n",
       "    <tr>\n",
       "      <th>min</th>\n",
       "      <td>2.000000</td>\n",
       "      <td>2.000000</td>\n",
       "      <td>1.000000</td>\n",
       "    </tr>\n",
       "    <tr>\n",
       "      <th>25%</th>\n",
       "      <td>70374.000000</td>\n",
       "      <td>83937.000000</td>\n",
       "      <td>7.000000</td>\n",
       "    </tr>\n",
       "    <tr>\n",
       "      <th>50%</th>\n",
       "      <td>144550.000000</td>\n",
       "      <td>168286.000000</td>\n",
       "      <td>8.000000</td>\n",
       "    </tr>\n",
       "    <tr>\n",
       "      <th>75%</th>\n",
       "      <td>209352.000000</td>\n",
       "      <td>251473.000000</td>\n",
       "      <td>9.000000</td>\n",
       "    </tr>\n",
       "    <tr>\n",
       "      <th>max</th>\n",
       "      <td>278858.000000</td>\n",
       "      <td>334342.000000</td>\n",
       "      <td>47363.000000</td>\n",
       "    </tr>\n",
       "  </tbody>\n",
       "</table>\n",
       "</div>"
      ],
      "text/plain": [
       "             User_Id        Book_Id         Rating\n",
       "count  303216.000000  303216.000000  303216.000000\n",
       "mean   140831.385448  167938.250904       7.755072\n",
       "std     79826.132368   96866.070691      86.018692\n",
       "min         2.000000       2.000000       1.000000\n",
       "25%     70374.000000   83937.000000       7.000000\n",
       "50%    144550.000000  168286.000000       8.000000\n",
       "75%    209352.000000  251473.000000       9.000000\n",
       "max    278858.000000  334342.000000   47363.000000"
      ]
     },
     "execution_count": 5,
     "metadata": {},
     "output_type": "execute_result"
    }
   ],
   "source": [
    "train.describe()"
   ]
  },
  {
   "cell_type": "code",
   "execution_count": 6,
   "metadata": {},
   "outputs": [
    {
     "data": {
      "text/plain": [
       "8        72613\n",
       "10       54613\n",
       "7        53678\n",
       "9        47240\n",
       "5        35904\n",
       "6        25786\n",
       "4         6116\n",
       "3         4149\n",
       "2         1896\n",
       "1         1220\n",
       "47363        1\n",
       "Name: Rating, dtype: int64"
      ]
     },
     "execution_count": 6,
     "metadata": {},
     "output_type": "execute_result"
    }
   ],
   "source": [
    "train['Rating'].value_counts()"
   ]
  },
  {
   "cell_type": "code",
   "execution_count": 7,
   "metadata": {},
   "outputs": [],
   "source": [
    "train['Rating'] = train['Rating'].apply(lambda x: 10 if x > 10 else x)"
   ]
  },
  {
   "cell_type": "code",
   "execution_count": 8,
   "metadata": {},
   "outputs": [
    {
     "data": {
      "text/plain": [
       "<Axes: xlabel='Rating', ylabel='Density'>"
      ]
     },
     "execution_count": 8,
     "metadata": {},
     "output_type": "execute_result"
    },
    {
     "data": {
      "image/png": "[encoded data removed]",
      "text/plain": [
       "<Figure size 640x480 with 1 Axes>"
      ]
     },
     "metadata": {},
     "output_type": "display_data"
    }
   ],
   "source": [
    "# distribution of rating\n",
    "sns.distplot(train['Rating'])"
   ]
  },
  {
   "cell_type": "code",
   "execution_count": 9,
   "metadata": {},
   "outputs": [
    {
     "data": {
      "text/plain": [
       "User_Id    0\n",
       "Book_Id    0\n",
       "Rating     0\n",
       "dtype: int64"
      ]
     },
     "execution_count": 9,
     "metadata": {},
     "output_type": "execute_result"
    }
   ],
   "source": [
    "# missing values\n",
    "train.isnull().sum()"
   ]
  },
  {
   "cell_type": "markdown",
   "metadata": {},
   "source": [
    "### Test"
   ]
  },
  {
   "cell_type": "code",
   "execution_count": 10,
   "metadata": {},
   "outputs": [
    {
     "data": {
      "text/html": [
       "<div>\n",
       "<style scoped>\n",
       "    .dataframe tbody tr th:only-of-type {\n",
       "        vertical-align: middle;\n",
       "    }\n",
       "\n",
       "    .dataframe tbody tr th {\n",
       "        vertical-align: top;\n",
       "    }\n",
       "\n",
       "    .dataframe thead th {\n",
       "        text-align: right;\n",
       "    }\n",
       "</style>\n",
       "<table border=\"1\" class=\"dataframe\">\n",
       "  <thead>\n",
       "    <tr style=\"text-align: right;\">\n",
       "      <th></th>\n",
       "      <th>User_Id</th>\n",
       "      <th>Book_Id</th>\n",
       "    </tr>\n",
       "  </thead>\n",
       "  <tbody>\n",
       "    <tr>\n",
       "      <th>0</th>\n",
       "      <td>51757</td>\n",
       "      <td>112562</td>\n",
       "    </tr>\n",
       "    <tr>\n",
       "      <th>1</th>\n",
       "      <td>167329</td>\n",
       "      <td>233532</td>\n",
       "    </tr>\n",
       "    <tr>\n",
       "      <th>2</th>\n",
       "      <td>115450</td>\n",
       "      <td>62910</td>\n",
       "    </tr>\n",
       "    <tr>\n",
       "      <th>3</th>\n",
       "      <td>71697</td>\n",
       "      <td>64447</td>\n",
       "    </tr>\n",
       "    <tr>\n",
       "      <th>4</th>\n",
       "      <td>255816</td>\n",
       "      <td>28554</td>\n",
       "    </tr>\n",
       "  </tbody>\n",
       "</table>\n",
       "</div>"
      ],
      "text/plain": [
       "   User_Id  Book_Id\n",
       "0    51757   112562\n",
       "1   167329   233532\n",
       "2   115450    62910\n",
       "3    71697    64447\n",
       "4   255816    28554"
      ]
     },
     "execution_count": 10,
     "metadata": {},
     "output_type": "execute_result"
    }
   ],
   "source": [
    "test.head()"
   ]
  },
  {
   "cell_type": "code",
   "execution_count": 11,
   "metadata": {},
   "outputs": [
    {
     "data": {
      "text/html": [
       "<div>\n",
       "<style scoped>\n",
       "    .dataframe tbody tr th:only-of-type {\n",
       "        vertical-align: middle;\n",
       "    }\n",
       "\n",
       "    .dataframe tbody tr th {\n",
       "        vertical-align: top;\n",
       "    }\n",
       "\n",
       "    .dataframe thead th {\n",
       "        text-align: right;\n",
       "    }\n",
       "</style>\n",
       "<table border=\"1\" class=\"dataframe\">\n",
       "  <thead>\n",
       "    <tr style=\"text-align: right;\">\n",
       "      <th></th>\n",
       "      <th>User_Id</th>\n",
       "      <th>Book_Id</th>\n",
       "    </tr>\n",
       "  </thead>\n",
       "  <tbody>\n",
       "    <tr>\n",
       "      <th>count</th>\n",
       "      <td>47522.000000</td>\n",
       "      <td>47522.000000</td>\n",
       "    </tr>\n",
       "    <tr>\n",
       "      <th>mean</th>\n",
       "      <td>142520.973444</td>\n",
       "      <td>167381.549093</td>\n",
       "    </tr>\n",
       "    <tr>\n",
       "      <th>std</th>\n",
       "      <td>79456.934195</td>\n",
       "      <td>96927.857980</td>\n",
       "    </tr>\n",
       "    <tr>\n",
       "      <th>min</th>\n",
       "      <td>76.000000</td>\n",
       "      <td>11.000000</td>\n",
       "    </tr>\n",
       "    <tr>\n",
       "      <th>25%</th>\n",
       "      <td>71697.000000</td>\n",
       "      <td>83355.000000</td>\n",
       "    </tr>\n",
       "    <tr>\n",
       "      <th>50%</th>\n",
       "      <td>148556.000000</td>\n",
       "      <td>167235.000000</td>\n",
       "    </tr>\n",
       "    <tr>\n",
       "      <th>75%</th>\n",
       "      <td>210912.000000</td>\n",
       "      <td>251641.500000</td>\n",
       "    </tr>\n",
       "    <tr>\n",
       "      <th>max</th>\n",
       "      <td>278826.000000</td>\n",
       "      <td>334325.000000</td>\n",
       "    </tr>\n",
       "  </tbody>\n",
       "</table>\n",
       "</div>"
      ],
      "text/plain": [
       "             User_Id        Book_Id\n",
       "count   47522.000000   47522.000000\n",
       "mean   142520.973444  167381.549093\n",
       "std     79456.934195   96927.857980\n",
       "min        76.000000      11.000000\n",
       "25%     71697.000000   83355.000000\n",
       "50%    148556.000000  167235.000000\n",
       "75%    210912.000000  251641.500000\n",
       "max    278826.000000  334325.000000"
      ]
     },
     "execution_count": 11,
     "metadata": {},
     "output_type": "execute_result"
    }
   ],
   "source": [
    "test.describe()"
   ]
  },
  {
   "cell_type": "code",
   "execution_count": 12,
   "metadata": {},
   "outputs": [
    {
     "data": {
      "text/plain": [
       "User_Id    0\n",
       "Book_Id    0\n",
       "dtype: int64"
      ]
     },
     "execution_count": 12,
     "metadata": {},
     "output_type": "execute_result"
    }
   ],
   "source": [
    "test.isnull().sum()"
   ]
  },
  {
   "cell_type": "markdown",
   "metadata": {},
   "source": [
    "### Books"
   ]
  },
  {
   "cell_type": "code",
   "execution_count": 13,
   "metadata": {},
   "outputs": [
    {
     "data": {
      "text/html": [
       "<div>\n",
       "<style scoped>\n",
       "    .dataframe tbody tr th:only-of-type {\n",
       "        vertical-align: middle;\n",
       "    }\n",
       "\n",
       "    .dataframe tbody tr th {\n",
       "        vertical-align: top;\n",
       "    }\n",
       "\n",
       "    .dataframe thead th {\n",
       "        text-align: right;\n",
       "    }\n",
       "</style>\n",
       "<table border=\"1\" class=\"dataframe\">\n",
       "  <thead>\n",
       "    <tr style=\"text-align: right;\">\n",
       "      <th></th>\n",
       "      <th>book_id</th>\n",
       "      <th>title</th>\n",
       "      <th>author</th>\n",
       "      <th>year</th>\n",
       "      <th>publisher</th>\n",
       "      <th>image_url_s</th>\n",
       "      <th>image_url_m</th>\n",
       "      <th>image_url_l</th>\n",
       "    </tr>\n",
       "  </thead>\n",
       "  <tbody>\n",
       "    <tr>\n",
       "      <th>0</th>\n",
       "      <td>6036</td>\n",
       "      <td>Ecclesiastical History of the English People W...</td>\n",
       "      <td>Bede</td>\n",
       "      <td>1991</td>\n",
       "      <td>Penguin Books</td>\n",
       "      <td>http://images.amazon.com/images/P/014044565X.0...</td>\n",
       "      <td>http://images.amazon.com/images/P/014044565X.0...</td>\n",
       "      <td>http://images.amazon.com/images/P/014044565X.0...</td>\n",
       "    </tr>\n",
       "    <tr>\n",
       "      <th>1</th>\n",
       "      <td>248755</td>\n",
       "      <td>Rebecca of Sunnybrook Farm Wordsworth Collection</td>\n",
       "      <td>Kate Douglas Wiggin</td>\n",
       "      <td>1999</td>\n",
       "      <td>NTCContemporary Publishing Company</td>\n",
       "      <td>http://images.amazon.com/images/P/1853261343.0...</td>\n",
       "      <td>http://images.amazon.com/images/P/1853261343.0...</td>\n",
       "      <td>http://images.amazon.com/images/P/1853261343.0...</td>\n",
       "    </tr>\n",
       "    <tr>\n",
       "      <th>2</th>\n",
       "      <td>100080</td>\n",
       "      <td>No 2243 The Pregnant Mistress Harlequin Presents</td>\n",
       "      <td>Sandra Marton</td>\n",
       "      <td>2002</td>\n",
       "      <td>Harlequin</td>\n",
       "      <td>http://images.amazon.com/images/P/0373122438.0...</td>\n",
       "      <td>http://images.amazon.com/images/P/0373122438.0...</td>\n",
       "      <td>http://images.amazon.com/images/P/0373122438.0...</td>\n",
       "    </tr>\n",
       "    <tr>\n",
       "      <th>3</th>\n",
       "      <td>216944</td>\n",
       "      <td>Izo</td>\n",
       "      <td>Pascal de Duve</td>\n",
       "      <td>1994</td>\n",
       "      <td>LGF</td>\n",
       "      <td>http://images.amazon.com/images/P/2253135224.0...</td>\n",
       "      <td>http://images.amazon.com/images/P/2253135224.0...</td>\n",
       "      <td>http://images.amazon.com/images/P/2253135224.0...</td>\n",
       "    </tr>\n",
       "    <tr>\n",
       "      <th>4</th>\n",
       "      <td>60313</td>\n",
       "      <td>Bad Blood</td>\n",
       "      <td>Debra Doyle</td>\n",
       "      <td>1993</td>\n",
       "      <td>Berkley Pub Group</td>\n",
       "      <td>http://images.amazon.com/images/P/0425139530.0...</td>\n",
       "      <td>http://images.amazon.com/images/P/0425139530.0...</td>\n",
       "      <td>http://images.amazon.com/images/P/0425139530.0...</td>\n",
       "    </tr>\n",
       "  </tbody>\n",
       "</table>\n",
       "</div>"
      ],
      "text/plain": [
       "   book_id                                              title  \\\n",
       "0     6036  Ecclesiastical History of the English People W...   \n",
       "1   248755   Rebecca of Sunnybrook Farm Wordsworth Collection   \n",
       "2   100080   No 2243 The Pregnant Mistress Harlequin Presents   \n",
       "3   216944                                                Izo   \n",
       "4    60313                                          Bad Blood   \n",
       "\n",
       "                author  year                           publisher  \\\n",
       "0                 Bede  1991                       Penguin Books   \n",
       "1  Kate Douglas Wiggin  1999  NTCContemporary Publishing Company   \n",
       "2        Sandra Marton  2002                           Harlequin   \n",
       "3       Pascal de Duve  1994                                 LGF   \n",
       "4          Debra Doyle  1993                   Berkley Pub Group   \n",
       "\n",
       "                                         image_url_s  \\\n",
       "0  http://images.amazon.com/images/P/014044565X.0...   \n",
       "1  http://images.amazon.com/images/P/1853261343.0...   \n",
       "2  http://images.amazon.com/images/P/0373122438.0...   \n",
       "3  http://images.amazon.com/images/P/2253135224.0...   \n",
       "4  http://images.amazon.com/images/P/0425139530.0...   \n",
       "\n",
       "                                         image_url_m  \\\n",
       "0  http://images.amazon.com/images/P/014044565X.0...   \n",
       "1  http://images.amazon.com/images/P/1853261343.0...   \n",
       "2  http://images.amazon.com/images/P/0373122438.0...   \n",
       "3  http://images.amazon.com/images/P/2253135224.0...   \n",
       "4  http://images.amazon.com/images/P/0425139530.0...   \n",
       "\n",
       "                                         image_url_l  \n",
       "0  http://images.amazon.com/images/P/014044565X.0...  \n",
       "1  http://images.amazon.com/images/P/1853261343.0...  \n",
       "2  http://images.amazon.com/images/P/0373122438.0...  \n",
       "3  http://images.amazon.com/images/P/2253135224.0...  \n",
       "4  http://images.amazon.com/images/P/0425139530.0...  "
      ]
     },
     "execution_count": 13,
     "metadata": {},
     "output_type": "execute_result"
    }
   ],
   "source": [
    "books.head()"
   ]
  },
  {
   "cell_type": "code",
   "execution_count": 14,
   "metadata": {},
   "outputs": [
    {
     "data": {
      "text/plain": [
       "Index(['book_id', 'title', 'author', 'year', 'publisher', 'image_url_s',\n",
       "       'image_url_m', 'image_url_l'],\n",
       "      dtype='object')"
      ]
     },
     "execution_count": 14,
     "metadata": {},
     "output_type": "execute_result"
    }
   ],
   "source": [
    "books.columns"
   ]
  },
  {
   "cell_type": "code",
   "execution_count": 15,
   "metadata": {},
   "outputs": [],
   "source": [
    "books = books[['book_id', 'title', 'author', 'year', 'publisher']]"
   ]
  },
  {
   "cell_type": "code",
   "execution_count": 16,
   "metadata": {},
   "outputs": [
    {
     "data": {
      "text/plain": [
       "book_id      0\n",
       "title        0\n",
       "author       1\n",
       "year         0\n",
       "publisher    5\n",
       "dtype: int64"
      ]
     },
     "execution_count": 16,
     "metadata": {},
     "output_type": "execute_result"
    }
   ],
   "source": [
    "books.isnull().sum()"
   ]
  },
  {
   "cell_type": "code",
   "execution_count": 17,
   "metadata": {},
   "outputs": [],
   "source": [
    "# replace missing values with 'unknown'\n",
    "books['author'] = books['author'].fillna('unknown')\n",
    "books['publisher'] = books['publisher'].fillna('unknown')"
   ]
  },
  {
   "cell_type": "code",
   "execution_count": 18,
   "metadata": {},
   "outputs": [
    {
     "data": {
      "text/html": [
       "<div>\n",
       "<style scoped>\n",
       "    .dataframe tbody tr th:only-of-type {\n",
       "        vertical-align: middle;\n",
       "    }\n",
       "\n",
       "    .dataframe tbody tr th {\n",
       "        vertical-align: top;\n",
       "    }\n",
       "\n",
       "    .dataframe thead th {\n",
       "        text-align: right;\n",
       "    }\n",
       "</style>\n",
       "<table border=\"1\" class=\"dataframe\">\n",
       "  <thead>\n",
       "    <tr style=\"text-align: right;\">\n",
       "      <th></th>\n",
       "      <th>book_id</th>\n",
       "      <th>year</th>\n",
       "    </tr>\n",
       "  </thead>\n",
       "  <tbody>\n",
       "    <tr>\n",
       "      <th>count</th>\n",
       "      <td>271379.000000</td>\n",
       "      <td>271379.000000</td>\n",
       "    </tr>\n",
       "    <tr>\n",
       "      <th>mean</th>\n",
       "      <td>167123.717734</td>\n",
       "      <td>1960.010653</td>\n",
       "    </tr>\n",
       "    <tr>\n",
       "      <th>std</th>\n",
       "      <td>96577.950048</td>\n",
       "      <td>275.531085</td>\n",
       "    </tr>\n",
       "    <tr>\n",
       "      <th>min</th>\n",
       "      <td>1.000000</td>\n",
       "      <td>0.000000</td>\n",
       "    </tr>\n",
       "    <tr>\n",
       "      <th>25%</th>\n",
       "      <td>83463.500000</td>\n",
       "      <td>1989.000000</td>\n",
       "    </tr>\n",
       "    <tr>\n",
       "      <th>50%</th>\n",
       "      <td>167091.000000</td>\n",
       "      <td>1995.000000</td>\n",
       "    </tr>\n",
       "    <tr>\n",
       "      <th>75%</th>\n",
       "      <td>250837.000000</td>\n",
       "      <td>2000.000000</td>\n",
       "    </tr>\n",
       "    <tr>\n",
       "      <th>max</th>\n",
       "      <td>334344.000000</td>\n",
       "      <td>37547.000000</td>\n",
       "    </tr>\n",
       "  </tbody>\n",
       "</table>\n",
       "</div>"
      ],
      "text/plain": [
       "             book_id           year\n",
       "count  271379.000000  271379.000000\n",
       "mean   167123.717734    1960.010653\n",
       "std     96577.950048     275.531085\n",
       "min         1.000000       0.000000\n",
       "25%     83463.500000    1989.000000\n",
       "50%    167091.000000    1995.000000\n",
       "75%    250837.000000    2000.000000\n",
       "max    334344.000000   37547.000000"
      ]
     },
     "execution_count": 18,
     "metadata": {},
     "output_type": "execute_result"
    }
   ],
   "source": [
    "books.describe()"
   ]
  },
  {
   "cell_type": "code",
   "execution_count": 19,
   "metadata": {},
   "outputs": [
    {
     "name": "stdout",
     "output_type": "stream",
     "text": [
      "0 37547\n"
     ]
    }
   ],
   "source": [
    "# year\n",
    "min_year = books['year'].min()\n",
    "max_year = books['year'].max()\n",
    "print(min_year, max_year)"
   ]
  },
  {
   "cell_type": "code",
   "execution_count": 20,
   "metadata": {},
   "outputs": [],
   "source": [
    "# replace year < 1700 and year > 2020 with mean year\n",
    "mean_year = books['year'].mean()\n",
    "books['year'] = books['year'].apply(lambda x: mean_year if x < 1700 or x > 2020 else x)"
   ]
  },
  {
   "cell_type": "code",
   "execution_count": 21,
   "metadata": {},
   "outputs": [
    {
     "data": {
      "text/plain": [
       "<Axes: xlabel='year', ylabel='Density'>"
      ]
     },
     "execution_count": 21,
     "metadata": {},
     "output_type": "execute_result"
    },
    {
     "data": {
      "image/png": "[encoded data removed]",
      "text/plain": [
       "<Figure size 640x480 with 1 Axes>"
      ]
     },
     "metadata": {},
     "output_type": "display_data"
    }
   ],
   "source": [
    "# distribution of year\n",
    "sns.distplot(books['year'])"
   ]
  },
  {
   "cell_type": "code",
   "execution_count": 22,
   "metadata": {},
   "outputs": [
    {
     "name": "stdout",
     "output_type": "stream",
     "text": [
      "Number of unique books:  271378\n",
      "Number of unique authors:  100963\n",
      "Number of unique publishers:  16623\n"
     ]
    }
   ],
   "source": [
    "# unique values\n",
    "print(\"Number of unique books: \", books['book_id'].nunique())\n",
    "print(\"Number of unique authors: \", books['author'].nunique())\n",
    "print(\"Number of unique publishers: \", books['publisher'].nunique())"
   ]
  },
  {
   "cell_type": "code",
   "execution_count": 23,
   "metadata": {},
   "outputs": [
    {
     "data": {
      "text/plain": [
       "Agatha Christie        632\n",
       "William Shakespeare    567\n",
       "Stephen King           524\n",
       "Ann M Martin           428\n",
       "Carolyn Keene          373\n",
       "Francine Pascal        373\n",
       "Isaac Asimov           330\n",
       "Nora Roberts           315\n",
       "Barbara Cartland       307\n",
       "Charles Dickens        302\n",
       "Name: author, dtype: int64"
      ]
     },
     "execution_count": 23,
     "metadata": {},
     "output_type": "execute_result"
    }
   ],
   "source": [
    "# Most books by author\n",
    "books['author'].value_counts().head(10)"
   ]
  },
  {
   "cell_type": "code",
   "execution_count": 24,
   "metadata": {},
   "outputs": [
    {
     "data": {
      "text/plain": [
       "Harlequin                   7536\n",
       "Silhouette                  4220\n",
       "Pocket                      3905\n",
       "Ballantine Books            3783\n",
       "Bantam Books                3647\n",
       "Scholastic                  3160\n",
       "Simon amp Schuster          2971\n",
       "Penguin Books               2845\n",
       "Berkley Publishing Group    2771\n",
       "Warner Books                2727\n",
       "Name: publisher, dtype: int64"
      ]
     },
     "execution_count": 24,
     "metadata": {},
     "output_type": "execute_result"
    }
   ],
   "source": [
    "# Most books by publisher\n",
    "books['publisher'].value_counts().head(10)"
   ]
  },
  {
   "cell_type": "markdown",
   "metadata": {},
   "source": [
    "### Users"
   ]
  },
  {
   "cell_type": "code",
   "execution_count": 25,
   "metadata": {},
   "outputs": [
    {
     "data": {
      "text/html": [
       "<div>\n",
       "<style scoped>\n",
       "    .dataframe tbody tr th:only-of-type {\n",
       "        vertical-align: middle;\n",
       "    }\n",
       "\n",
       "    .dataframe tbody tr th {\n",
       "        vertical-align: top;\n",
       "    }\n",
       "\n",
       "    .dataframe thead th {\n",
       "        text-align: right;\n",
       "    }\n",
       "</style>\n",
       "<table border=\"1\" class=\"dataframe\">\n",
       "  <thead>\n",
       "    <tr style=\"text-align: right;\">\n",
       "      <th></th>\n",
       "      <th>User_Id</th>\n",
       "      <th>Location</th>\n",
       "      <th>Age</th>\n",
       "    </tr>\n",
       "  </thead>\n",
       "  <tbody>\n",
       "    <tr>\n",
       "      <th>0</th>\n",
       "      <td>1</td>\n",
       "      <td>kawerau., bay of plenty., new zealand</td>\n",
       "      <td>65.0</td>\n",
       "    </tr>\n",
       "    <tr>\n",
       "      <th>1</th>\n",
       "      <td>2</td>\n",
       "      <td>austin, texas, usa</td>\n",
       "      <td>NaN</td>\n",
       "    </tr>\n",
       "    <tr>\n",
       "      <th>2</th>\n",
       "      <td>3</td>\n",
       "      <td>milpitas, california, usa</td>\n",
       "      <td>44.0</td>\n",
       "    </tr>\n",
       "    <tr>\n",
       "      <th>3</th>\n",
       "      <td>4</td>\n",
       "      <td>sao paulo, sao paulo, brazil</td>\n",
       "      <td>47.0</td>\n",
       "    </tr>\n",
       "    <tr>\n",
       "      <th>4</th>\n",
       "      <td>5</td>\n",
       "      <td>verona, veneto, italy</td>\n",
       "      <td>38.0</td>\n",
       "    </tr>\n",
       "  </tbody>\n",
       "</table>\n",
       "</div>"
      ],
      "text/plain": [
       "   User_Id                               Location   Age\n",
       "0        1  kawerau., bay of plenty., new zealand  65.0\n",
       "1        2                     austin, texas, usa   NaN\n",
       "2        3              milpitas, california, usa  44.0\n",
       "3        4           sao paulo, sao paulo, brazil  47.0\n",
       "4        5                  verona, veneto, italy  38.0"
      ]
     },
     "execution_count": 25,
     "metadata": {},
     "output_type": "execute_result"
    }
   ],
   "source": [
    "users.head()"
   ]
  },
  {
   "cell_type": "code",
   "execution_count": 26,
   "metadata": {},
   "outputs": [
    {
     "data": {
      "text/plain": [
       "Index(['User_Id', 'Location', 'Age'], dtype='object')"
      ]
     },
     "execution_count": 26,
     "metadata": {},
     "output_type": "execute_result"
    }
   ],
   "source": [
    "users.columns"
   ]
  },
  {
   "cell_type": "code",
   "execution_count": 27,
   "metadata": {},
   "outputs": [],
   "source": [
    "users.rename(columns={'User_Id': 'user_id', 'Location': 'location', 'Age': 'age'}, inplace=True)"
   ]
  },
  {
   "cell_type": "code",
   "execution_count": 28,
   "metadata": {},
   "outputs": [
    {
     "data": {
      "text/plain": [
       "user_id          0\n",
       "location         0\n",
       "age         110762\n",
       "dtype: int64"
      ]
     },
     "execution_count": 28,
     "metadata": {},
     "output_type": "execute_result"
    }
   ],
   "source": [
    "users.isnull().sum()"
   ]
  },
  {
   "cell_type": "code",
   "execution_count": 29,
   "metadata": {},
   "outputs": [],
   "source": [
    "# create a new column country by splitting the location column on commas and taking the last element\n",
    "users['country'] = users['location'].str.split(',').str[-1]\n",
    "\n",
    "# replace quotes in the country column with nothing\n",
    "users['country'] = users['country'].str.replace('\"', '')\n",
    "users['country'] = users['country'].str.strip()"
   ]
  },
  {
   "cell_type": "code",
   "execution_count": 30,
   "metadata": {},
   "outputs": [
    {
     "data": {
      "text/plain": [
       "usa                  139712\n",
       "canada                21658\n",
       "united kingdom        18556\n",
       "germany               17073\n",
       "spain                 13258\n",
       "                      ...  \n",
       "jackson                   1\n",
       "&#32654;&#22269;          1\n",
       "brunei darussalam         1\n",
       "orense                    1\n",
       "c.a.                      1\n",
       "Name: country, Length: 630, dtype: int64"
      ]
     },
     "execution_count": 30,
     "metadata": {},
     "output_type": "execute_result"
    }
   ],
   "source": [
    "users['country'].value_counts()"
   ]
  },
  {
   "cell_type": "code",
   "execution_count": 31,
   "metadata": {},
   "outputs": [],
   "source": [
    "# Source: https://github.com/lukes/ISO-3166-Countries-with-Regional-Codes/blob/master/all/all.csv\n",
    "# read in the countries csv file from the above url\n",
    "countries = pd.read_csv(\"https://raw.githubusercontent.com/lukes/ISO-3166-Countries-with-Regional-Codes/master/all/all.csv\")\n",
    "# convert all the column values to lowercase if they are strings\n",
    "countries = countries.applymap(lambda x: x.lower().strip() if type(x) == str else x)\n",
    "countries_names =  countries['name'].values\n",
    "countries_alpha2 = countries['alpha-2'].values\n",
    "countries_alpha3 = countries['alpha-3'].values"
   ]
  },
  {
   "cell_type": "code",
   "execution_count": 32,
   "metadata": {},
   "outputs": [
    {
     "data": {
      "text/plain": [
       "united states of america    139729\n",
       "other                        25833\n",
       "canada                       21659\n",
       "germany                      17074\n",
       "spain                        13258\n",
       "                             ...  \n",
       "comoros                          1\n",
       "madagascar                       1\n",
       "brunei darussalam                1\n",
       "somalia                          1\n",
       "kiribati                         1\n",
       "Name: country, Length: 179, dtype: int64"
      ]
     },
     "execution_count": 32,
     "metadata": {},
     "output_type": "execute_result"
    }
   ],
   "source": [
    "# rename the country column of df to name if the value matches name, alpha-2, or alpha-3 in the countries dataframe else set it to other\n",
    "\n",
    "users['temp_country'] = users['country'].str.replace('united states', 'united states of america')\n",
    "\n",
    "users['temp_country'] = users['temp_country'].apply(lambda x: countries[countries['alpha-2'] == x]['name'].values[0] if x in countries_alpha2 else x)\n",
    "\n",
    "users['temp_country'] = users['temp_country'].apply(lambda x: countries[countries['alpha-3'] == x]['name'].values[0] if x in countries_alpha3 else x)\n",
    "\n",
    "users['temp_country'] = users['temp_country'].apply(lambda x: 'other' if x not in countries_names else x)\n",
    "\n",
    "# delete the country column\n",
    "users.drop(columns=['country'], inplace=True)\n",
    "users.drop(columns=['location'], inplace=True)\n",
    "\n",
    "# rename the country2 column to country\n",
    "users.rename(columns={'temp_country': 'country'}, inplace=True)\n",
    "\n",
    "users['country'].value_counts()"
   ]
  },
  {
   "cell_type": "code",
   "execution_count": 33,
   "metadata": {},
   "outputs": [
    {
     "data": {
      "text/plain": [
       "americas    166417\n",
       "europe       62217\n",
       "other        25833\n",
       "oceania      14947\n",
       "asia          8320\n",
       "africa        1097\n",
       "Name: region, dtype: int64"
      ]
     },
     "execution_count": 33,
     "metadata": {},
     "output_type": "execute_result"
    }
   ],
   "source": [
    "# add a new column region by mapping the country column to the region column in the countries dataframe if the country is in the countries dataframe else set it to other\n",
    "users['region'] = users['country'].apply(lambda x: countries[countries['name'] == x]['region'].values[0] if x in countries_names else 'other')\n",
    "\n",
    "users['region'].value_counts()"
   ]
  },
  {
   "cell_type": "code",
   "execution_count": 34,
   "metadata": {},
   "outputs": [
    {
     "name": "stdout",
     "output_type": "stream",
     "text": [
      "Missing age percentage:  39.71985741847105 %\n"
     ]
    }
   ],
   "source": [
    "print(\"Missing age percentage: \", users['age'].isna().sum() / users.shape[0] * 100, \"%\")"
   ]
  },
  {
   "cell_type": "code",
   "execution_count": 35,
   "metadata": {},
   "outputs": [
    {
     "data": {
      "text/plain": [
       "country\n",
       "chad                                                    75.500000\n",
       "bhutan                                                  56.666667\n",
       "tonga                                                   56.000000\n",
       "isle of man                                             53.000000\n",
       "antigua and barbuda                                     52.125000\n",
       "                                                          ...    \n",
       "mauritania                                                    NaN\n",
       "myanmar                                                       NaN\n",
       "russian federation                                            NaN\n",
       "somalia                                                       NaN\n",
       "united kingdom of great britain and northern ireland          NaN\n",
       "Name: age, Length: 179, dtype: float64"
      ]
     },
     "execution_count": 35,
     "metadata": {},
     "output_type": "execute_result"
    }
   ],
   "source": [
    "# Mean average age by country\n",
    "users.groupby('country')['age'].mean().sort_values(ascending=False)"
   ]
  },
  {
   "cell_type": "code",
   "execution_count": 36,
   "metadata": {},
   "outputs": [
    {
     "data": {
      "text/plain": [
       "<Axes: >"
      ]
     },
     "execution_count": 36,
     "metadata": {},
     "output_type": "execute_result"
    },
    {
     "data": {
      "image/png": "[encoded data removed]",
      "text/plain": [
       "<Figure size 640x480 with 1 Axes>"
      ]
     },
     "metadata": {},
     "output_type": "display_data"
    }
   ],
   "source": [
    "users['age'].hist(bins=100)"
   ]
  },
  {
   "cell_type": "code",
   "execution_count": 37,
   "metadata": {},
   "outputs": [
    {
     "name": "stdout",
     "output_type": "stream",
     "text": [
      "Min age:  0.0\n",
      "Max age:  244.0\n"
     ]
    }
   ],
   "source": [
    "# min and max age\n",
    "print(\"Min age: \", users['age'].min())\n",
    "print(\"Max age: \", users['age'].max())"
   ]
  },
  {
   "cell_type": "code",
   "execution_count": 38,
   "metadata": {},
   "outputs": [],
   "source": [
    "# replace age > 100 with mean age\n",
    "mean_age = users['age'].mean()\n",
    "users['age'] = users['age'].apply(lambda x: mean_age if x > 100 else x)"
   ]
  },
  {
   "cell_type": "code",
   "execution_count": 39,
   "metadata": {},
   "outputs": [],
   "source": [
    "# replace age < 3 with 5\n",
    "users['age'] = users['age'].apply(lambda x: 5 if x < 3 else x)"
   ]
  },
  {
   "cell_type": "code",
   "execution_count": 40,
   "metadata": {},
   "outputs": [
    {
     "data": {
      "text/plain": [
       "<Axes: >"
      ]
     },
     "execution_count": 40,
     "metadata": {},
     "output_type": "execute_result"
    },
    {
     "data": {
      "image/png": "[encoded data removed]",
      "text/plain": [
       "<Figure size 640x480 with 1 Axes>"
      ]
     },
     "metadata": {},
     "output_type": "display_data"
    }
   ],
   "source": [
    "users.boxplot(column=['age'])"
   ]
  },
  {
   "cell_type": "code",
   "execution_count": 41,
   "metadata": {},
   "outputs": [],
   "source": [
    "# fill the missing values in the age column with 0 and another column for age missing\n",
    "users['age_missing'] = users['age'].isna()\n",
    "users['age'] = users['age'].fillna(0)"
   ]
  },
  {
   "cell_type": "code",
   "execution_count": 42,
   "metadata": {},
   "outputs": [
    {
     "data": {
      "text/html": [
       "<div>\n",
       "<style scoped>\n",
       "    .dataframe tbody tr th:only-of-type {\n",
       "        vertical-align: middle;\n",
       "    }\n",
       "\n",
       "    .dataframe tbody tr th {\n",
       "        vertical-align: top;\n",
       "    }\n",
       "\n",
       "    .dataframe thead th {\n",
       "        text-align: right;\n",
       "    }\n",
       "</style>\n",
       "<table border=\"1\" class=\"dataframe\">\n",
       "  <thead>\n",
       "    <tr style=\"text-align: right;\">\n",
       "      <th></th>\n",
       "      <th>user_id</th>\n",
       "      <th>age</th>\n",
       "      <th>country</th>\n",
       "      <th>region</th>\n",
       "      <th>age_missing</th>\n",
       "    </tr>\n",
       "  </thead>\n",
       "  <tbody>\n",
       "    <tr>\n",
       "      <th>0</th>\n",
       "      <td>1</td>\n",
       "      <td>65.0</td>\n",
       "      <td>new zealand</td>\n",
       "      <td>oceania</td>\n",
       "      <td>False</td>\n",
       "    </tr>\n",
       "    <tr>\n",
       "      <th>1</th>\n",
       "      <td>2</td>\n",
       "      <td>0.0</td>\n",
       "      <td>united states of america</td>\n",
       "      <td>americas</td>\n",
       "      <td>True</td>\n",
       "    </tr>\n",
       "    <tr>\n",
       "      <th>2</th>\n",
       "      <td>3</td>\n",
       "      <td>44.0</td>\n",
       "      <td>united states of america</td>\n",
       "      <td>americas</td>\n",
       "      <td>False</td>\n",
       "    </tr>\n",
       "    <tr>\n",
       "      <th>3</th>\n",
       "      <td>4</td>\n",
       "      <td>47.0</td>\n",
       "      <td>brazil</td>\n",
       "      <td>americas</td>\n",
       "      <td>False</td>\n",
       "    </tr>\n",
       "    <tr>\n",
       "      <th>4</th>\n",
       "      <td>5</td>\n",
       "      <td>38.0</td>\n",
       "      <td>italy</td>\n",
       "      <td>europe</td>\n",
       "      <td>False</td>\n",
       "    </tr>\n",
       "  </tbody>\n",
       "</table>\n",
       "</div>"
      ],
      "text/plain": [
       "   user_id   age                   country    region  age_missing\n",
       "0        1  65.0               new zealand   oceania        False\n",
       "1        2   0.0  united states of america  americas         True\n",
       "2        3  44.0  united states of america  americas        False\n",
       "3        4  47.0                    brazil  americas        False\n",
       "4        5  38.0                     italy    europe        False"
      ]
     },
     "execution_count": 42,
     "metadata": {},
     "output_type": "execute_result"
    }
   ],
   "source": [
    "users.head()"
   ]
  },
  {
   "cell_type": "code",
   "execution_count": 43,
   "metadata": {},
   "outputs": [],
   "source": [
    "train = train.rename(columns={'User_Id': 'user_id', 'Rating': 'rating', 'Book_Id': 'book_id'})\n",
    "test = test.rename(columns={'User_Id': 'user_id', 'Book_Id': 'book_id'})\n",
    "users = users.rename(columns={'User_Id': 'user_id', 'Location': 'location', 'Age': 'age'})"
   ]
  },
  {
   "cell_type": "markdown",
   "metadata": {},
   "source": [
    "# Merge train with meta data"
   ]
  },
  {
   "cell_type": "code",
   "execution_count": 44,
   "metadata": {},
   "outputs": [
    {
     "name": "stdout",
     "output_type": "stream",
     "text": [
      "Train shape:  (303216, 3)\n",
      "Train shape after merging with books:  (303219, 7)\n",
      "Train shape after merging with users:  (303219, 11)\n"
     ]
    }
   ],
   "source": [
    "print(\"Train shape: \", train.shape)\n",
    "data = pd.merge(train, books, on='book_id', how='left')\n",
    "print(\"Train shape after merging with books: \", data.shape)\n",
    "data = pd.merge(data, users, on='user_id', how='left')\n",
    "print(\"Train shape after merging with users: \", data.shape)"
   ]
  },
  {
   "cell_type": "code",
   "execution_count": 45,
   "metadata": {},
   "outputs": [
    {
     "data": {
      "text/html": [
       "<div>\n",
       "<style scoped>\n",
       "    .dataframe tbody tr th:only-of-type {\n",
       "        vertical-align: middle;\n",
       "    }\n",
       "\n",
       "    .dataframe tbody tr th {\n",
       "        vertical-align: top;\n",
       "    }\n",
       "\n",
       "    .dataframe thead th {\n",
       "        text-align: right;\n",
       "    }\n",
       "</style>\n",
       "<table border=\"1\" class=\"dataframe\">\n",
       "  <thead>\n",
       "    <tr style=\"text-align: right;\">\n",
       "      <th></th>\n",
       "      <th>user_id</th>\n",
       "      <th>book_id</th>\n",
       "      <th>rating</th>\n",
       "      <th>title</th>\n",
       "      <th>author</th>\n",
       "      <th>year</th>\n",
       "      <th>publisher</th>\n",
       "      <th>age</th>\n",
       "      <th>country</th>\n",
       "      <th>region</th>\n",
       "      <th>age_missing</th>\n",
       "    </tr>\n",
       "  </thead>\n",
       "  <tbody>\n",
       "    <tr>\n",
       "      <th>0</th>\n",
       "      <td>206641</td>\n",
       "      <td>56067</td>\n",
       "      <td>6</td>\n",
       "      <td>Geography Of Nowhere The Rise And Declineof Am...</td>\n",
       "      <td>James Howard Kunstler</td>\n",
       "      <td>1994.0</td>\n",
       "      <td>Free Press</td>\n",
       "      <td>100.0</td>\n",
       "      <td>united states of america</td>\n",
       "      <td>americas</td>\n",
       "      <td>False</td>\n",
       "    </tr>\n",
       "    <tr>\n",
       "      <th>1</th>\n",
       "      <td>96769</td>\n",
       "      <td>327469</td>\n",
       "      <td>10</td>\n",
       "      <td>Harry Potter and the Order of the Phoenix Book 5</td>\n",
       "      <td>J K Rowling</td>\n",
       "      <td>2003.0</td>\n",
       "      <td>Scholastic</td>\n",
       "      <td>0.0</td>\n",
       "      <td>other</td>\n",
       "      <td>other</td>\n",
       "      <td>True</td>\n",
       "    </tr>\n",
       "    <tr>\n",
       "      <th>2</th>\n",
       "      <td>149881</td>\n",
       "      <td>325723</td>\n",
       "      <td>5</td>\n",
       "      <td>Medinoche El Barco De Vapor</td>\n",
       "      <td>Randolph Stow</td>\n",
       "      <td>1985.0</td>\n",
       "      <td>Lectorum Pubns J</td>\n",
       "      <td>27.0</td>\n",
       "      <td>spain</td>\n",
       "      <td>europe</td>\n",
       "      <td>False</td>\n",
       "    </tr>\n",
       "    <tr>\n",
       "      <th>3</th>\n",
       "      <td>104656</td>\n",
       "      <td>115894</td>\n",
       "      <td>8</td>\n",
       "      <td>Gotta Get Next to You</td>\n",
       "      <td>Lynn Emery</td>\n",
       "      <td>2001.0</td>\n",
       "      <td>HarperTorch</td>\n",
       "      <td>22.0</td>\n",
       "      <td>united states of america</td>\n",
       "      <td>americas</td>\n",
       "      <td>False</td>\n",
       "    </tr>\n",
       "    <tr>\n",
       "      <th>4</th>\n",
       "      <td>107921</td>\n",
       "      <td>236817</td>\n",
       "      <td>10</td>\n",
       "      <td>Free</td>\n",
       "      <td>Paul Vincent</td>\n",
       "      <td>2003.0</td>\n",
       "      <td>Upfront Publishing</td>\n",
       "      <td>29.0</td>\n",
       "      <td>other</td>\n",
       "      <td>other</td>\n",
       "      <td>False</td>\n",
       "    </tr>\n",
       "  </tbody>\n",
       "</table>\n",
       "</div>"
      ],
      "text/plain": [
       "   user_id  book_id  rating  \\\n",
       "0   206641    56067       6   \n",
       "1    96769   327469      10   \n",
       "2   149881   325723       5   \n",
       "3   104656   115894       8   \n",
       "4   107921   236817      10   \n",
       "\n",
       "                                               title                 author  \\\n",
       "0  Geography Of Nowhere The Rise And Declineof Am...  James Howard Kunstler   \n",
       "1   Harry Potter and the Order of the Phoenix Book 5            J K Rowling   \n",
       "2                        Medinoche El Barco De Vapor          Randolph Stow   \n",
       "3                              Gotta Get Next to You             Lynn Emery   \n",
       "4                                               Free           Paul Vincent   \n",
       "\n",
       "     year           publisher    age                   country    region  \\\n",
       "0  1994.0          Free Press  100.0  united states of america  americas   \n",
       "1  2003.0          Scholastic    0.0                     other     other   \n",
       "2  1985.0    Lectorum Pubns J   27.0                     spain    europe   \n",
       "3  2001.0         HarperTorch   22.0  united states of america  americas   \n",
       "4  2003.0  Upfront Publishing   29.0                     other     other   \n",
       "\n",
       "   age_missing  \n",
       "0        False  \n",
       "1         True  \n",
       "2        False  \n",
       "3        False  \n",
       "4        False  "
      ]
     },
     "execution_count": 45,
     "metadata": {},
     "output_type": "execute_result"
    }
   ],
   "source": [
    "data.head()"
   ]
  },
  {
   "cell_type": "code",
   "execution_count": 46,
   "metadata": {},
   "outputs": [
    {
     "data": {
      "text/plain": [
       "user_id            0\n",
       "book_id            0\n",
       "rating             0\n",
       "title          34998\n",
       "author         34998\n",
       "year           34998\n",
       "publisher      34998\n",
       "age                0\n",
       "country            0\n",
       "region            40\n",
       "age_missing        0\n",
       "dtype: int64"
      ]
     },
     "execution_count": 46,
     "metadata": {},
     "output_type": "execute_result"
    }
   ],
   "source": [
    "data.isnull().sum()"
   ]
  },
  {
   "cell_type": "code",
   "execution_count": 47,
   "metadata": {},
   "outputs": [
    {
     "data": {
      "text/html": [
       "<div>\n",
       "<style scoped>\n",
       "    .dataframe tbody tr th:only-of-type {\n",
       "        vertical-align: middle;\n",
       "    }\n",
       "\n",
       "    .dataframe tbody tr th {\n",
       "        vertical-align: top;\n",
       "    }\n",
       "\n",
       "    .dataframe thead th {\n",
       "        text-align: right;\n",
       "    }\n",
       "</style>\n",
       "<table border=\"1\" class=\"dataframe\">\n",
       "  <thead>\n",
       "    <tr style=\"text-align: right;\">\n",
       "      <th></th>\n",
       "      <th>user_id</th>\n",
       "      <th>book_id</th>\n",
       "      <th>rating</th>\n",
       "      <th>year</th>\n",
       "      <th>age</th>\n",
       "    </tr>\n",
       "  </thead>\n",
       "  <tbody>\n",
       "    <tr>\n",
       "      <th>count</th>\n",
       "      <td>303219.000000</td>\n",
       "      <td>303219.000000</td>\n",
       "      <td>303219.000000</td>\n",
       "      <td>268221.000000</td>\n",
       "      <td>303219.000000</td>\n",
       "    </tr>\n",
       "    <tr>\n",
       "      <th>mean</th>\n",
       "      <td>140831.571996</td>\n",
       "      <td>167937.006494</td>\n",
       "      <td>7.598897</td>\n",
       "      <td>1995.155620</td>\n",
       "      <td>25.685753</td>\n",
       "    </tr>\n",
       "    <tr>\n",
       "      <th>std</th>\n",
       "      <td>79825.762444</td>\n",
       "      <td>96866.399400</td>\n",
       "      <td>1.839927</td>\n",
       "      <td>8.477624</td>\n",
       "      <td>19.699771</td>\n",
       "    </tr>\n",
       "    <tr>\n",
       "      <th>min</th>\n",
       "      <td>2.000000</td>\n",
       "      <td>2.000000</td>\n",
       "      <td>1.000000</td>\n",
       "      <td>1806.000000</td>\n",
       "      <td>0.000000</td>\n",
       "    </tr>\n",
       "    <tr>\n",
       "      <th>25%</th>\n",
       "      <td>70374.000000</td>\n",
       "      <td>83937.000000</td>\n",
       "      <td>7.000000</td>\n",
       "      <td>1992.000000</td>\n",
       "      <td>0.000000</td>\n",
       "    </tr>\n",
       "    <tr>\n",
       "      <th>50%</th>\n",
       "      <td>144550.000000</td>\n",
       "      <td>168286.000000</td>\n",
       "      <td>8.000000</td>\n",
       "      <td>1997.000000</td>\n",
       "      <td>29.000000</td>\n",
       "    </tr>\n",
       "    <tr>\n",
       "      <th>75%</th>\n",
       "      <td>209352.000000</td>\n",
       "      <td>251473.000000</td>\n",
       "      <td>9.000000</td>\n",
       "      <td>2001.000000</td>\n",
       "      <td>40.000000</td>\n",
       "    </tr>\n",
       "    <tr>\n",
       "      <th>max</th>\n",
       "      <td>278858.000000</td>\n",
       "      <td>334342.000000</td>\n",
       "      <td>10.000000</td>\n",
       "      <td>2020.000000</td>\n",
       "      <td>100.000000</td>\n",
       "    </tr>\n",
       "  </tbody>\n",
       "</table>\n",
       "</div>"
      ],
      "text/plain": [
       "             user_id        book_id         rating           year  \\\n",
       "count  303219.000000  303219.000000  303219.000000  268221.000000   \n",
       "mean   140831.571996  167937.006494       7.598897    1995.155620   \n",
       "std     79825.762444   96866.399400       1.839927       8.477624   \n",
       "min         2.000000       2.000000       1.000000    1806.000000   \n",
       "25%     70374.000000   83937.000000       7.000000    1992.000000   \n",
       "50%    144550.000000  168286.000000       8.000000    1997.000000   \n",
       "75%    209352.000000  251473.000000       9.000000    2001.000000   \n",
       "max    278858.000000  334342.000000      10.000000    2020.000000   \n",
       "\n",
       "                 age  \n",
       "count  303219.000000  \n",
       "mean       25.685753  \n",
       "std        19.699771  \n",
       "min         0.000000  \n",
       "25%         0.000000  \n",
       "50%        29.000000  \n",
       "75%        40.000000  \n",
       "max       100.000000  "
      ]
     },
     "execution_count": 47,
     "metadata": {},
     "output_type": "execute_result"
    }
   ],
   "source": [
    "data.describe()"
   ]
  },
  {
   "cell_type": "code",
   "execution_count": 48,
   "metadata": {},
   "outputs": [
    {
     "data": {
      "text/plain": [
       "<Axes: >"
      ]
     },
     "execution_count": 48,
     "metadata": {},
     "output_type": "execute_result"
    },
    {
     "data": {
      "image/png": "[encoded data removed]",
      "text/plain": [
       "<Figure size 640x480 with 1 Axes>"
      ]
     },
     "metadata": {},
     "output_type": "display_data"
    }
   ],
   "source": [
    "data['rating'].hist(bins=10)"
   ]
  },
  {
   "cell_type": "code",
   "execution_count": 49,
   "metadata": {},
   "outputs": [
    {
     "data": {
      "text/plain": [
       "title\n",
       "Sport Stretch                                                       10.0\n",
       "Emilys Black Mail Fold and Mail Stationery Emily the Strange        10.0\n",
       "The Enchanted Castle Wordsworth Collection Childrens Library        10.0\n",
       "The Enchanted Hill The story of Hearst Castle at San Simeon         10.0\n",
       "The Enchanted Tarot Book and Cards                                  10.0\n",
       "The Enchanted World of RankinBass                                   10.0\n",
       "EmilyS Captain  March Madness Harlequin Historical                  10.0\n",
       "The Encyclopaedia of Celtic Wisdom The Celtic Shamans Sourcebook    10.0\n",
       "The Encyclopedia of Ancient Civilizations                           10.0\n",
       "The Encyclopedia of Healing Plants                                  10.0\n",
       "Name: rating, dtype: float64"
      ]
     },
     "execution_count": 49,
     "metadata": {},
     "output_type": "execute_result"
    }
   ],
   "source": [
    "# top rated books\n",
    "data.groupby('title')['rating'].mean().sort_values(ascending=False).head(10)"
   ]
  },
  {
   "cell_type": "code",
   "execution_count": 50,
   "metadata": {},
   "outputs": [
    {
     "data": {
      "text/plain": [
       "author\n",
       " 17111776 Hume      10.0\n",
       "Laura Berkeley      10.0\n",
       "Candlewick Press    10.0\n",
       "Candie Frankel      10.0\n",
       "Lan Cao             10.0\n",
       "Lance Morrow        10.0\n",
       "Lance Parkin        10.0\n",
       "Lanier Graham       10.0\n",
       "Lao Tsu             10.0\n",
       "Lara Owen           10.0\n",
       "Name: rating, dtype: float64"
      ]
     },
     "execution_count": 50,
     "metadata": {},
     "output_type": "execute_result"
    }
   ],
   "source": [
    "# top rated authors\n",
    "data.groupby('author')['rating'].mean().sort_values(ascending=False).head(10)"
   ]
  },
  {
   "cell_type": "code",
   "execution_count": 51,
   "metadata": {},
   "outputs": [
    {
     "data": {
      "text/plain": [
       "title\n",
       "The Lovely Bones A Novel                          491\n",
       "Wild Animus                                       409\n",
       "The Da Vinci Code                                 329\n",
       "The Secret Life of Bees                           288\n",
       "Bridget Joness Diary                              269\n",
       "The Red Tent Bestselling Backlist                 268\n",
       "The Nanny Diaries A Novel                         258\n",
       "A Painted House                                   247\n",
       "Harry Potter and the Chamber of Secrets Book 2    227\n",
       "Life of Pi                                        221\n",
       "Name: rating, dtype: int64"
      ]
     },
     "execution_count": 51,
     "metadata": {},
     "output_type": "execute_result"
    }
   ],
   "source": [
    "# most rated books\n",
    "data.groupby('title')['rating'].count().sort_values(ascending=False).head(10)"
   ]
  },
  {
   "cell_type": "code",
   "execution_count": 52,
   "metadata": {},
   "outputs": [
    {
     "data": {
      "text/plain": [
       "<Axes: ylabel='title'>"
      ]
     },
     "execution_count": 52,
     "metadata": {},
     "output_type": "execute_result"
    },
    {
     "data": {
      "image/png": "[encoded data removed]",
      "text/plain": [
       "<Figure size 640x480 with 1 Axes>"
      ]
     },
     "metadata": {},
     "output_type": "display_data"
    }
   ],
   "source": [
    "# plot the top 10 most rated books, X-axis = count and y-axis movie, and add colors to the bars\n",
    "data.groupby('title')['rating'].count().sort_values(ascending=False).iloc[1:11].plot(kind='barh', color=['red', 'green', 'blue', 'yellow', 'orange', 'purple', 'pink', 'brown', 'grey', 'black'])"
   ]
  },
  {
   "cell_type": "code",
   "execution_count": 53,
   "metadata": {},
   "outputs": [
    {
     "data": {
      "text/plain": [
       "region    title                                                                     \n",
       "americas  Tickets A Play in One Act                                                     10.0\n",
       "          Tibetan Folk Tales                                                            10.0\n",
       "          Joey Pigza Swallowed the Key Joey Pigza Books Hardcover                       10.0\n",
       "          Tibet                                                                         10.0\n",
       "          An Album of Memories                                                          10.0\n",
       "          Thursday Next in the Well Of Lost Plots Thursday Next Novels Penguin Books    10.0\n",
       "          John Adams and the American Revolution                                        10.0\n",
       "          An African Prayer Book                                                        10.0\n",
       "          Thunderstick Spanish Bit Saga of the Plains Indians                           10.0\n",
       "          John C Ordinary Enlightenment                                                 10.0\n",
       "Name: rating, dtype: float64"
      ]
     },
     "execution_count": 53,
     "metadata": {},
     "output_type": "execute_result"
    }
   ],
   "source": [
    "# top rated books by region\n",
    "data.groupby(['region', 'title'])['rating'].mean().sort_values(ascending=False)[1:11]"
   ]
  },
  {
   "cell_type": "code",
   "execution_count": 54,
   "metadata": {},
   "outputs": [],
   "source": [
    "# replace missing title, author, publisher with unknown\n",
    "data['title'] = data['title'].fillna('unknown')\n",
    "data['author'] = data['author'].fillna('unknown')\n",
    "data['publisher'] = data['publisher'].fillna('unknown')\n",
    "data['region'] = data['region'].fillna('unknown')"
   ]
  },
  {
   "cell_type": "code",
   "execution_count": 55,
   "metadata": {},
   "outputs": [],
   "source": [
    "# replace missing year with mean year\n",
    "data['year'] = data['year'].fillna(data['year'].mean())"
   ]
  },
  {
   "cell_type": "code",
   "execution_count": 56,
   "metadata": {},
   "outputs": [
    {
     "data": {
      "text/plain": [
       "user_id        0\n",
       "book_id        0\n",
       "rating         0\n",
       "title          0\n",
       "author         0\n",
       "year           0\n",
       "publisher      0\n",
       "age            0\n",
       "country        0\n",
       "region         0\n",
       "age_missing    0\n",
       "dtype: int64"
      ]
     },
     "execution_count": 56,
     "metadata": {},
     "output_type": "execute_result"
    }
   ],
   "source": [
    "data.isna().sum()"
   ]
  },
  {
   "cell_type": "markdown",
   "metadata": {},
   "source": [
    "# Merge test with meta data"
   ]
  },
  {
   "cell_type": "code",
   "execution_count": 57,
   "metadata": {},
   "outputs": [
    {
     "name": "stdout",
     "output_type": "stream",
     "text": [
      "Test shape:  (47522, 2)\n",
      "Test shape after merging with books:  (47522, 6)\n",
      "Test shape after merging with users:  (47522, 10)\n"
     ]
    }
   ],
   "source": [
    "print(\"Test shape: \", test.shape)\n",
    "test_data = pd.merge(test, books, on='book_id', how='left')\n",
    "print(\"Test shape after merging with books: \", test_data.shape)\n",
    "test_data = pd.merge(test_data, users, on='user_id', how='left')\n",
    "print(\"Test shape after merging with users: \", test_data.shape)"
   ]
  },
  {
   "cell_type": "code",
   "execution_count": 58,
   "metadata": {},
   "outputs": [
    {
     "data": {
      "text/html": [
       "<div>\n",
       "<style scoped>\n",
       "    .dataframe tbody tr th:only-of-type {\n",
       "        vertical-align: middle;\n",
       "    }\n",
       "\n",
       "    .dataframe tbody tr th {\n",
       "        vertical-align: top;\n",
       "    }\n",
       "\n",
       "    .dataframe thead th {\n",
       "        text-align: right;\n",
       "    }\n",
       "</style>\n",
       "<table border=\"1\" class=\"dataframe\">\n",
       "  <thead>\n",
       "    <tr style=\"text-align: right;\">\n",
       "      <th></th>\n",
       "      <th>user_id</th>\n",
       "      <th>book_id</th>\n",
       "      <th>title</th>\n",
       "      <th>author</th>\n",
       "      <th>year</th>\n",
       "      <th>publisher</th>\n",
       "      <th>age</th>\n",
       "      <th>country</th>\n",
       "      <th>region</th>\n",
       "      <th>age_missing</th>\n",
       "    </tr>\n",
       "  </thead>\n",
       "  <tbody>\n",
       "    <tr>\n",
       "      <th>0</th>\n",
       "      <td>51757</td>\n",
       "      <td>112562</td>\n",
       "      <td>The Mists of Avalon</td>\n",
       "      <td>MARION ZIMMER BRADLEY</td>\n",
       "      <td>1987.0</td>\n",
       "      <td>Del Rey</td>\n",
       "      <td>43.0</td>\n",
       "      <td>united states of america</td>\n",
       "      <td>americas</td>\n",
       "      <td>False</td>\n",
       "    </tr>\n",
       "    <tr>\n",
       "      <th>1</th>\n",
       "      <td>167329</td>\n",
       "      <td>233532</td>\n",
       "      <td>The BLACK ALBUM</td>\n",
       "      <td>Hanif Kureishi</td>\n",
       "      <td>1996.0</td>\n",
       "      <td>Scribner</td>\n",
       "      <td>27.0</td>\n",
       "      <td>portugal</td>\n",
       "      <td>europe</td>\n",
       "      <td>False</td>\n",
       "    </tr>\n",
       "    <tr>\n",
       "      <th>2</th>\n",
       "      <td>115450</td>\n",
       "      <td>62910</td>\n",
       "      <td>Harry Potter and the Chamber of Secrets Book 2</td>\n",
       "      <td>J K Rowling</td>\n",
       "      <td>2000.0</td>\n",
       "      <td>Scholastic</td>\n",
       "      <td>38.0</td>\n",
       "      <td>united states of america</td>\n",
       "      <td>americas</td>\n",
       "      <td>False</td>\n",
       "    </tr>\n",
       "    <tr>\n",
       "      <th>3</th>\n",
       "      <td>71697</td>\n",
       "      <td>64447</td>\n",
       "      <td>The Wicca Handbook</td>\n",
       "      <td>Eileen Holland</td>\n",
       "      <td>2000.0</td>\n",
       "      <td>Weiser Books</td>\n",
       "      <td>63.0</td>\n",
       "      <td>other</td>\n",
       "      <td>other</td>\n",
       "      <td>False</td>\n",
       "    </tr>\n",
       "    <tr>\n",
       "      <th>4</th>\n",
       "      <td>255816</td>\n",
       "      <td>28554</td>\n",
       "      <td>Lily White</td>\n",
       "      <td>Susan Isaacs</td>\n",
       "      <td>1997.0</td>\n",
       "      <td>HarperTorch</td>\n",
       "      <td>46.0</td>\n",
       "      <td>united states of america</td>\n",
       "      <td>americas</td>\n",
       "      <td>False</td>\n",
       "    </tr>\n",
       "  </tbody>\n",
       "</table>\n",
       "</div>"
      ],
      "text/plain": [
       "   user_id  book_id                                           title  \\\n",
       "0    51757   112562                             The Mists of Avalon   \n",
       "1   167329   233532                                 The BLACK ALBUM   \n",
       "2   115450    62910  Harry Potter and the Chamber of Secrets Book 2   \n",
       "3    71697    64447                              The Wicca Handbook   \n",
       "4   255816    28554                                      Lily White   \n",
       "\n",
       "                  author    year     publisher   age  \\\n",
       "0  MARION ZIMMER BRADLEY  1987.0       Del Rey  43.0   \n",
       "1         Hanif Kureishi  1996.0      Scribner  27.0   \n",
       "2            J K Rowling  2000.0    Scholastic  38.0   \n",
       "3         Eileen Holland  2000.0  Weiser Books  63.0   \n",
       "4           Susan Isaacs  1997.0   HarperTorch  46.0   \n",
       "\n",
       "                    country    region  age_missing  \n",
       "0  united states of america  americas        False  \n",
       "1                  portugal    europe        False  \n",
       "2  united states of america  americas        False  \n",
       "3                     other     other        False  \n",
       "4  united states of america  americas        False  "
      ]
     },
     "execution_count": 58,
     "metadata": {},
     "output_type": "execute_result"
    }
   ],
   "source": [
    "test_data.head()"
   ]
  },
  {
   "cell_type": "code",
   "execution_count": 59,
   "metadata": {},
   "outputs": [
    {
     "data": {
      "text/plain": [
       "user_id           0\n",
       "book_id           0\n",
       "title          4600\n",
       "author         4600\n",
       "year           4600\n",
       "publisher      4600\n",
       "age               0\n",
       "country           0\n",
       "region           12\n",
       "age_missing       0\n",
       "dtype: int64"
      ]
     },
     "execution_count": 59,
     "metadata": {},
     "output_type": "execute_result"
    }
   ],
   "source": [
    "test_data.isnull().sum()"
   ]
  },
  {
   "cell_type": "code",
   "execution_count": 60,
   "metadata": {},
   "outputs": [
    {
     "data": {
      "text/html": [
       "<div>\n",
       "<style scoped>\n",
       "    .dataframe tbody tr th:only-of-type {\n",
       "        vertical-align: middle;\n",
       "    }\n",
       "\n",
       "    .dataframe tbody tr th {\n",
       "        vertical-align: top;\n",
       "    }\n",
       "\n",
       "    .dataframe thead th {\n",
       "        text-align: right;\n",
       "    }\n",
       "</style>\n",
       "<table border=\"1\" class=\"dataframe\">\n",
       "  <thead>\n",
       "    <tr style=\"text-align: right;\">\n",
       "      <th></th>\n",
       "      <th>user_id</th>\n",
       "      <th>book_id</th>\n",
       "      <th>year</th>\n",
       "      <th>age</th>\n",
       "    </tr>\n",
       "  </thead>\n",
       "  <tbody>\n",
       "    <tr>\n",
       "      <th>count</th>\n",
       "      <td>47522.000000</td>\n",
       "      <td>47522.000000</td>\n",
       "      <td>42922.000000</td>\n",
       "      <td>47522.000000</td>\n",
       "    </tr>\n",
       "    <tr>\n",
       "      <th>mean</th>\n",
       "      <td>142520.973444</td>\n",
       "      <td>167381.549093</td>\n",
       "      <td>1994.890276</td>\n",
       "      <td>27.463484</td>\n",
       "    </tr>\n",
       "    <tr>\n",
       "      <th>std</th>\n",
       "      <td>79456.934195</td>\n",
       "      <td>96927.857980</td>\n",
       "      <td>8.552716</td>\n",
       "      <td>19.054430</td>\n",
       "    </tr>\n",
       "    <tr>\n",
       "      <th>min</th>\n",
       "      <td>76.000000</td>\n",
       "      <td>11.000000</td>\n",
       "      <td>1902.000000</td>\n",
       "      <td>0.000000</td>\n",
       "    </tr>\n",
       "    <tr>\n",
       "      <th>25%</th>\n",
       "      <td>71697.000000</td>\n",
       "      <td>83355.000000</td>\n",
       "      <td>1992.000000</td>\n",
       "      <td>0.000000</td>\n",
       "    </tr>\n",
       "    <tr>\n",
       "      <th>50%</th>\n",
       "      <td>148556.000000</td>\n",
       "      <td>167235.000000</td>\n",
       "      <td>1997.000000</td>\n",
       "      <td>30.000000</td>\n",
       "    </tr>\n",
       "    <tr>\n",
       "      <th>75%</th>\n",
       "      <td>210912.000000</td>\n",
       "      <td>251641.500000</td>\n",
       "      <td>2001.000000</td>\n",
       "      <td>42.000000</td>\n",
       "    </tr>\n",
       "    <tr>\n",
       "      <th>max</th>\n",
       "      <td>278826.000000</td>\n",
       "      <td>334325.000000</td>\n",
       "      <td>2005.000000</td>\n",
       "      <td>100.000000</td>\n",
       "    </tr>\n",
       "  </tbody>\n",
       "</table>\n",
       "</div>"
      ],
      "text/plain": [
       "             user_id        book_id          year           age\n",
       "count   47522.000000   47522.000000  42922.000000  47522.000000\n",
       "mean   142520.973444  167381.549093   1994.890276     27.463484\n",
       "std     79456.934195   96927.857980      8.552716     19.054430\n",
       "min        76.000000      11.000000   1902.000000      0.000000\n",
       "25%     71697.000000   83355.000000   1992.000000      0.000000\n",
       "50%    148556.000000  167235.000000   1997.000000     30.000000\n",
       "75%    210912.000000  251641.500000   2001.000000     42.000000\n",
       "max    278826.000000  334325.000000   2005.000000    100.000000"
      ]
     },
     "execution_count": 60,
     "metadata": {},
     "output_type": "execute_result"
    }
   ],
   "source": [
    "test_data.describe()"
   ]
  },
  {
   "cell_type": "code",
   "execution_count": 61,
   "metadata": {},
   "outputs": [],
   "source": [
    "# replace missing title, author, publisher and region with unknown\n",
    "test_data['title'] = test_data['title'].fillna('unknown')\n",
    "test_data['author'] = test_data['author'].fillna('unknown')\n",
    "test_data['publisher'] = test_data['publisher'].fillna('unknown')\n",
    "test_data['region'] = test_data['region'].fillna('unknown')"
   ]
  },
  {
   "cell_type": "code",
   "execution_count": 62,
   "metadata": {},
   "outputs": [],
   "source": [
    "# replace missing year with mean year\n",
    "test_data['year'] = test_data['year'].fillna(data['year'].mean())"
   ]
  },
  {
   "cell_type": "code",
   "execution_count": 63,
   "metadata": {},
   "outputs": [
    {
     "data": {
      "text/plain": [
       "user_id        0\n",
       "book_id        0\n",
       "title          0\n",
       "author         0\n",
       "year           0\n",
       "publisher      0\n",
       "age            0\n",
       "country        0\n",
       "region         0\n",
       "age_missing    0\n",
       "dtype: int64"
      ]
     },
     "execution_count": 63,
     "metadata": {},
     "output_type": "execute_result"
    }
   ],
   "source": [
    "test_data.isna().sum()"
   ]
  },
  {
   "cell_type": "markdown",
   "metadata": {},
   "source": [
    "# Modeling"
   ]
  },
  {
   "cell_type": "code",
   "execution_count": 64,
   "metadata": {},
   "outputs": [],
   "source": [
    "# split the data into train and validation\n",
    "from sklearn.model_selection import train_test_split\n",
    "train_data, val_data = train_test_split(data, test_size=0.2, random_state=42)"
   ]
  },
  {
   "cell_type": "code",
   "execution_count": 65,
   "metadata": {},
   "outputs": [
    {
     "name": "stdout",
     "output_type": "stream",
     "text": [
      "Train data shape:  (242575, 11)\n",
      "Validation data shape:  (60644, 11)\n"
     ]
    }
   ],
   "source": [
    "print(\"Train data shape: \", train_data.shape)\n",
    "print(\"Validation data shape: \", val_data.shape)"
   ]
  },
  {
   "cell_type": "markdown",
   "metadata": {},
   "source": [
    "## SVD"
   ]
  },
  {
   "cell_type": "code",
   "execution_count": 66,
   "metadata": {},
   "outputs": [],
   "source": [
    "svd = SVD(n_epochs=200, n_factors=15, lr_all=0.001, reg_all=0.05)\n",
    "reader = Reader(rating_scale=(1, 10))\n",
    "train_data_svd = Dataset.load_from_df(train_data[['user_id', 'book_id', 'rating']], reader)"
   ]
  },
  {
   "cell_type": "code",
   "execution_count": 67,
   "metadata": {},
   "outputs": [
    {
     "data": {
      "text/plain": [
       "<surprise.prediction_algorithms.matrix_factorization.SVD at 0x28b777220>"
      ]
     },
     "execution_count": 67,
     "metadata": {},
     "output_type": "execute_result"
    }
   ],
   "source": [
    "svd.fit(train_data_svd.build_full_trainset())"
   ]
  },
  {
   "cell_type": "code",
   "execution_count": 68,
   "metadata": {},
   "outputs": [],
   "source": [
    "# predict the ratings for the validation data\n",
    "predictions = val_data.apply(lambda x: svd.predict(x['user_id'], x['book_id']).est, axis=1)"
   ]
  },
  {
   "cell_type": "code",
   "execution_count": 69,
   "metadata": {},
   "outputs": [],
   "source": [
    "# Calculate the RMSE\n",
    "from sklearn.metrics import mean_squared_error\n",
    "from math import sqrt\n",
    "rmse = sqrt(mean_squared_error(val_data['rating'], predictions))"
   ]
  },
  {
   "cell_type": "code",
   "execution_count": 70,
   "metadata": {},
   "outputs": [
    {
     "name": "stdout",
     "output_type": "stream",
     "text": [
      "RMSE:  1.639888805960191\n"
     ]
    }
   ],
   "source": [
    "print(\"RMSE: \", rmse)"
   ]
  },
  {
   "cell_type": "code",
   "execution_count": 71,
   "metadata": {},
   "outputs": [],
   "source": [
    "# predict the ratings for the test data\n",
    "predictions = test_data.apply(lambda x: svd.predict(x['user_id'], x['book_id']).est, axis=1)"
   ]
  },
  {
   "cell_type": "code",
   "execution_count": 72,
   "metadata": {},
   "outputs": [
    {
     "data": {
      "text/plain": [
       "0        9.670121\n",
       "1        8.346019\n",
       "2        6.593337\n",
       "3        9.198099\n",
       "4        7.183357\n",
       "           ...   \n",
       "47517    9.292715\n",
       "47518    6.692180\n",
       "47519    7.759949\n",
       "47520    7.729147\n",
       "47521    8.755297\n",
       "Length: 47522, dtype: float64"
      ]
     },
     "execution_count": 72,
     "metadata": {},
     "output_type": "execute_result"
    }
   ],
   "source": [
    "predictions"
   ]
  },
  {
   "cell_type": "code",
   "execution_count": 73,
   "metadata": {},
   "outputs": [],
   "source": [
    "submission = pd.read_csv(\"./dataset/sample_submission.csv\")"
   ]
  },
  {
   "cell_type": "code",
   "execution_count": 74,
   "metadata": {},
   "outputs": [],
   "source": [
    "submission['Rating'] = predictions"
   ]
  },
  {
   "cell_type": "code",
   "execution_count": 75,
   "metadata": {},
   "outputs": [],
   "source": [
    "submission.to_csv('submission_svd.csv', index=False)"
   ]
  },
  {
   "cell_type": "code",
   "execution_count": 76,
   "metadata": {},
   "outputs": [],
   "source": [
    "# Grid search for best parameters\n",
    "param_grid = {'n_epochs': [10, 100, 500], 'lr_all': [0.0005, 0.001, 0.005], 'reg_all': [0.01, 0.05, 0.1]}"
   ]
  },
  {
   "cell_type": "code",
   "execution_count": 77,
   "metadata": {},
   "outputs": [],
   "source": [
    "from surprise.model_selection import GridSearchCV as GridSearchCVSurprise\n",
    "\n",
    "gs = GridSearchCVSurprise(SVD, param_grid, measures=['rmse'], cv=2, n_jobs=-1, joblib_verbose=10)"
   ]
  },
  {
   "cell_type": "code",
   "execution_count": 78,
   "metadata": {},
   "outputs": [
    {
     "name": "stderr",
     "output_type": "stream",
     "text": [
      "[Parallel(n_jobs=-1)]: Using backend LokyBackend with 10 concurrent workers.\n",
      "[Parallel(n_jobs=-1)]: Done   5 tasks      | elapsed:    2.9s\n",
      "[Parallel(n_jobs=-1)]: Done  12 tasks      | elapsed:    4.4s\n",
      "[Parallel(n_jobs=-1)]: Done  21 tasks      | elapsed:   11.2s\n",
      "[Parallel(n_jobs=-1)]: Done  30 tasks      | elapsed:   18.1s\n",
      "[Parallel(n_jobs=-1)]: Done  41 out of  54 | elapsed:   48.1s remaining:   15.3s\n",
      "[Parallel(n_jobs=-1)]: Done  47 out of  54 | elapsed:  1.1min remaining:   10.2s\n",
      "[Parallel(n_jobs=-1)]: Done  54 out of  54 | elapsed:  1.2min finished\n"
     ]
    }
   ],
   "source": [
    "gs.fit(train_data_svd)"
   ]
  },
  {
   "cell_type": "code",
   "execution_count": 79,
   "metadata": {},
   "outputs": [
    {
     "name": "stdout",
     "output_type": "stream",
     "text": [
      "Best RMSE: 1.6695733178557475\n",
      "Best hyperparameters: {'n_epochs': 500, 'lr_all': 0.0005, 'reg_all': 0.1}\n"
     ]
    }
   ],
   "source": [
    "# Get the best set of hyperparameters\n",
    "best_params = gs.best_params['rmse']\n",
    "print('Best RMSE:', gs.best_score['rmse'])\n",
    "print('Best hyperparameters:', best_params)"
   ]
  },
  {
   "cell_type": "markdown",
   "metadata": {},
   "source": [
    "## XGBoost"
   ]
  },
  {
   "cell_type": "code",
   "execution_count": 80,
   "metadata": {},
   "outputs": [
    {
     "data": {
      "text/html": [
       "<div>\n",
       "<style scoped>\n",
       "    .dataframe tbody tr th:only-of-type {\n",
       "        vertical-align: middle;\n",
       "    }\n",
       "\n",
       "    .dataframe tbody tr th {\n",
       "        vertical-align: top;\n",
       "    }\n",
       "\n",
       "    .dataframe thead th {\n",
       "        text-align: right;\n",
       "    }\n",
       "</style>\n",
       "<table border=\"1\" class=\"dataframe\">\n",
       "  <thead>\n",
       "    <tr style=\"text-align: right;\">\n",
       "      <th></th>\n",
       "      <th>user_id</th>\n",
       "      <th>book_id</th>\n",
       "      <th>rating</th>\n",
       "      <th>title</th>\n",
       "      <th>author</th>\n",
       "      <th>year</th>\n",
       "      <th>publisher</th>\n",
       "      <th>age</th>\n",
       "      <th>country</th>\n",
       "      <th>region</th>\n",
       "      <th>age_missing</th>\n",
       "    </tr>\n",
       "  </thead>\n",
       "  <tbody>\n",
       "    <tr>\n",
       "      <th>144978</th>\n",
       "      <td>49019</td>\n",
       "      <td>48902</td>\n",
       "      <td>5</td>\n",
       "      <td>unknown</td>\n",
       "      <td>unknown</td>\n",
       "      <td>1995.15562</td>\n",
       "      <td>unknown</td>\n",
       "      <td>0.0</td>\n",
       "      <td>malaysia</td>\n",
       "      <td>asia</td>\n",
       "      <td>True</td>\n",
       "    </tr>\n",
       "    <tr>\n",
       "      <th>52814</th>\n",
       "      <td>259486</td>\n",
       "      <td>83781</td>\n",
       "      <td>10</td>\n",
       "      <td>The Brethren</td>\n",
       "      <td>John Grisham</td>\n",
       "      <td>2000.00000</td>\n",
       "      <td>Island</td>\n",
       "      <td>30.0</td>\n",
       "      <td>portugal</td>\n",
       "      <td>europe</td>\n",
       "      <td>False</td>\n",
       "    </tr>\n",
       "    <tr>\n",
       "      <th>229011</th>\n",
       "      <td>75302</td>\n",
       "      <td>293333</td>\n",
       "      <td>9</td>\n",
       "      <td>Summerland</td>\n",
       "      <td>Michael Chabon</td>\n",
       "      <td>2002.00000</td>\n",
       "      <td>Miramax Kids</td>\n",
       "      <td>40.0</td>\n",
       "      <td>united states of america</td>\n",
       "      <td>americas</td>\n",
       "      <td>False</td>\n",
       "    </tr>\n",
       "    <tr>\n",
       "      <th>157957</th>\n",
       "      <td>137736</td>\n",
       "      <td>211866</td>\n",
       "      <td>8</td>\n",
       "      <td>paper Junie B Jones and the Yucky Blucky Frui...</td>\n",
       "      <td>Barbara Park</td>\n",
       "      <td>1995.00000</td>\n",
       "      <td>Random House Childrens Books</td>\n",
       "      <td>34.0</td>\n",
       "      <td>united states of america</td>\n",
       "      <td>americas</td>\n",
       "      <td>False</td>\n",
       "    </tr>\n",
       "    <tr>\n",
       "      <th>263928</th>\n",
       "      <td>59875</td>\n",
       "      <td>284366</td>\n",
       "      <td>9</td>\n",
       "      <td>Phantom Leader</td>\n",
       "      <td>Mark Berent</td>\n",
       "      <td>1992.00000</td>\n",
       "      <td>Jove Books</td>\n",
       "      <td>0.0</td>\n",
       "      <td>united states of america</td>\n",
       "      <td>americas</td>\n",
       "      <td>True</td>\n",
       "    </tr>\n",
       "  </tbody>\n",
       "</table>\n",
       "</div>"
      ],
      "text/plain": [
       "        user_id  book_id  rating  \\\n",
       "144978    49019    48902       5   \n",
       "52814    259486    83781      10   \n",
       "229011    75302   293333       9   \n",
       "157957   137736   211866       8   \n",
       "263928    59875   284366       9   \n",
       "\n",
       "                                                    title          author  \\\n",
       "144978                                            unknown         unknown   \n",
       "52814                                        The Brethren    John Grisham   \n",
       "229011                                         Summerland  Michael Chabon   \n",
       "157957   paper Junie B Jones and the Yucky Blucky Frui...    Barbara Park   \n",
       "263928                                     Phantom Leader     Mark Berent   \n",
       "\n",
       "              year                     publisher   age  \\\n",
       "144978  1995.15562                       unknown   0.0   \n",
       "52814   2000.00000                        Island  30.0   \n",
       "229011  2002.00000                  Miramax Kids  40.0   \n",
       "157957  1995.00000  Random House Childrens Books  34.0   \n",
       "263928  1992.00000                    Jove Books   0.0   \n",
       "\n",
       "                         country    region  age_missing  \n",
       "144978                  malaysia      asia         True  \n",
       "52814                   portugal    europe        False  \n",
       "229011  united states of america  americas        False  \n",
       "157957  united states of america  americas        False  \n",
       "263928  united states of america  americas         True  "
      ]
     },
     "execution_count": 80,
     "metadata": {},
     "output_type": "execute_result"
    }
   ],
   "source": [
    "train_data.head()"
   ]
  },
  {
   "cell_type": "code",
   "execution_count": 81,
   "metadata": {},
   "outputs": [
    {
     "data": {
      "text/html": [
       "<div>\n",
       "<style scoped>\n",
       "    .dataframe tbody tr th:only-of-type {\n",
       "        vertical-align: middle;\n",
       "    }\n",
       "\n",
       "    .dataframe tbody tr th {\n",
       "        vertical-align: top;\n",
       "    }\n",
       "\n",
       "    .dataframe thead th {\n",
       "        text-align: right;\n",
       "    }\n",
       "</style>\n",
       "<table border=\"1\" class=\"dataframe\">\n",
       "  <thead>\n",
       "    <tr style=\"text-align: right;\">\n",
       "      <th></th>\n",
       "      <th>user_id</th>\n",
       "      <th>book_id</th>\n",
       "      <th>title</th>\n",
       "      <th>author</th>\n",
       "      <th>year</th>\n",
       "      <th>publisher</th>\n",
       "      <th>age</th>\n",
       "      <th>country</th>\n",
       "      <th>region</th>\n",
       "      <th>age_missing</th>\n",
       "    </tr>\n",
       "  </thead>\n",
       "  <tbody>\n",
       "    <tr>\n",
       "      <th>0</th>\n",
       "      <td>51757</td>\n",
       "      <td>112562</td>\n",
       "      <td>The Mists of Avalon</td>\n",
       "      <td>MARION ZIMMER BRADLEY</td>\n",
       "      <td>1987.0</td>\n",
       "      <td>Del Rey</td>\n",
       "      <td>43.0</td>\n",
       "      <td>united states of america</td>\n",
       "      <td>americas</td>\n",
       "      <td>False</td>\n",
       "    </tr>\n",
       "    <tr>\n",
       "      <th>1</th>\n",
       "      <td>167329</td>\n",
       "      <td>233532</td>\n",
       "      <td>The BLACK ALBUM</td>\n",
       "      <td>Hanif Kureishi</td>\n",
       "      <td>1996.0</td>\n",
       "      <td>Scribner</td>\n",
       "      <td>27.0</td>\n",
       "      <td>portugal</td>\n",
       "      <td>europe</td>\n",
       "      <td>False</td>\n",
       "    </tr>\n",
       "    <tr>\n",
       "      <th>2</th>\n",
       "      <td>115450</td>\n",
       "      <td>62910</td>\n",
       "      <td>Harry Potter and the Chamber of Secrets Book 2</td>\n",
       "      <td>J K Rowling</td>\n",
       "      <td>2000.0</td>\n",
       "      <td>Scholastic</td>\n",
       "      <td>38.0</td>\n",
       "      <td>united states of america</td>\n",
       "      <td>americas</td>\n",
       "      <td>False</td>\n",
       "    </tr>\n",
       "    <tr>\n",
       "      <th>3</th>\n",
       "      <td>71697</td>\n",
       "      <td>64447</td>\n",
       "      <td>The Wicca Handbook</td>\n",
       "      <td>Eileen Holland</td>\n",
       "      <td>2000.0</td>\n",
       "      <td>Weiser Books</td>\n",
       "      <td>63.0</td>\n",
       "      <td>other</td>\n",
       "      <td>other</td>\n",
       "      <td>False</td>\n",
       "    </tr>\n",
       "    <tr>\n",
       "      <th>4</th>\n",
       "      <td>255816</td>\n",
       "      <td>28554</td>\n",
       "      <td>Lily White</td>\n",
       "      <td>Susan Isaacs</td>\n",
       "      <td>1997.0</td>\n",
       "      <td>HarperTorch</td>\n",
       "      <td>46.0</td>\n",
       "      <td>united states of america</td>\n",
       "      <td>americas</td>\n",
       "      <td>False</td>\n",
       "    </tr>\n",
       "  </tbody>\n",
       "</table>\n",
       "</div>"
      ],
      "text/plain": [
       "   user_id  book_id                                           title  \\\n",
       "0    51757   112562                             The Mists of Avalon   \n",
       "1   167329   233532                                 The BLACK ALBUM   \n",
       "2   115450    62910  Harry Potter and the Chamber of Secrets Book 2   \n",
       "3    71697    64447                              The Wicca Handbook   \n",
       "4   255816    28554                                      Lily White   \n",
       "\n",
       "                  author    year     publisher   age  \\\n",
       "0  MARION ZIMMER BRADLEY  1987.0       Del Rey  43.0   \n",
       "1         Hanif Kureishi  1996.0      Scribner  27.0   \n",
       "2            J K Rowling  2000.0    Scholastic  38.0   \n",
       "3         Eileen Holland  2000.0  Weiser Books  63.0   \n",
       "4           Susan Isaacs  1997.0   HarperTorch  46.0   \n",
       "\n",
       "                    country    region  age_missing  \n",
       "0  united states of america  americas        False  \n",
       "1                  portugal    europe        False  \n",
       "2  united states of america  americas        False  \n",
       "3                     other     other        False  \n",
       "4  united states of america  americas        False  "
      ]
     },
     "execution_count": 81,
     "metadata": {},
     "output_type": "execute_result"
    }
   ],
   "source": [
    "test_data.head()"
   ]
  },
  {
   "cell_type": "code",
   "execution_count": 82,
   "metadata": {},
   "outputs": [],
   "source": [
    "train_xgb = train_data.copy()\n",
    "test_xgb = test_data.copy()"
   ]
  },
  {
   "cell_type": "code",
   "execution_count": 83,
   "metadata": {},
   "outputs": [],
   "source": [
    "# convert the categorical columns to category type\n",
    "encoder = LabelEncoder()\n",
    "cat_cols = ['author', 'publisher', 'year', 'region', 'age_missing', 'country', 'user_id', 'book_id']"
   ]
  },
  {
   "cell_type": "code",
   "execution_count": 84,
   "metadata": {},
   "outputs": [],
   "source": [
    "scaler = MinMaxScaler()\n",
    "num_cols = ['age']"
   ]
  },
  {
   "cell_type": "code",
   "execution_count": 85,
   "metadata": {},
   "outputs": [],
   "source": [
    "for col in cat_cols:\n",
    "    train_xgb[col] = encoder.fit_transform(train_xgb[col])\n",
    "    test_xgb[col] = encoder.fit_transform(test_xgb[col])"
   ]
  },
  {
   "cell_type": "code",
   "execution_count": 86,
   "metadata": {},
   "outputs": [],
   "source": [
    "train_xgb[num_cols] = scaler.fit_transform(train_xgb[num_cols])\n",
    "test_xgb[num_cols] = scaler.fit_transform(test_xgb[num_cols])"
   ]
  },
  {
   "cell_type": "code",
   "execution_count": 87,
   "metadata": {},
   "outputs": [
    {
     "data": {
      "text/html": [
       "<div>\n",
       "<style scoped>\n",
       "    .dataframe tbody tr th:only-of-type {\n",
       "        vertical-align: middle;\n",
       "    }\n",
       "\n",
       "    .dataframe tbody tr th {\n",
       "        vertical-align: top;\n",
       "    }\n",
       "\n",
       "    .dataframe thead th {\n",
       "        text-align: right;\n",
       "    }\n",
       "</style>\n",
       "<table border=\"1\" class=\"dataframe\">\n",
       "  <thead>\n",
       "    <tr style=\"text-align: right;\">\n",
       "      <th></th>\n",
       "      <th>user_id</th>\n",
       "      <th>book_id</th>\n",
       "      <th>rating</th>\n",
       "      <th>title</th>\n",
       "      <th>author</th>\n",
       "      <th>year</th>\n",
       "      <th>publisher</th>\n",
       "      <th>age</th>\n",
       "      <th>country</th>\n",
       "      <th>region</th>\n",
       "      <th>age_missing</th>\n",
       "    </tr>\n",
       "  </thead>\n",
       "  <tbody>\n",
       "    <tr>\n",
       "      <th>144978</th>\n",
       "      <td>9084</td>\n",
       "      <td>18000</td>\n",
       "      <td>5</td>\n",
       "      <td>unknown</td>\n",
       "      <td>43578</td>\n",
       "      <td>80</td>\n",
       "      <td>8607</td>\n",
       "      <td>0.00</td>\n",
       "      <td>66</td>\n",
       "      <td>2</td>\n",
       "      <td>1</td>\n",
       "    </tr>\n",
       "    <tr>\n",
       "      <th>52814</th>\n",
       "      <td>48384</td>\n",
       "      <td>30684</td>\n",
       "      <td>10</td>\n",
       "      <td>The Brethren</td>\n",
       "      <td>20927</td>\n",
       "      <td>85</td>\n",
       "      <td>4146</td>\n",
       "      <td>0.30</td>\n",
       "      <td>90</td>\n",
       "      <td>3</td>\n",
       "      <td>0</td>\n",
       "    </tr>\n",
       "    <tr>\n",
       "      <th>229011</th>\n",
       "      <td>13975</td>\n",
       "      <td>107905</td>\n",
       "      <td>9</td>\n",
       "      <td>Summerland</td>\n",
       "      <td>29324</td>\n",
       "      <td>87</td>\n",
       "      <td>5197</td>\n",
       "      <td>0.40</td>\n",
       "      <td>112</td>\n",
       "      <td>1</td>\n",
       "      <td>0</td>\n",
       "    </tr>\n",
       "    <tr>\n",
       "      <th>157957</th>\n",
       "      <td>25491</td>\n",
       "      <td>77769</td>\n",
       "      <td>8</td>\n",
       "      <td>paper Junie B Jones and the Yucky Blucky Frui...</td>\n",
       "      <td>3660</td>\n",
       "      <td>79</td>\n",
       "      <td>6485</td>\n",
       "      <td>0.34</td>\n",
       "      <td>112</td>\n",
       "      <td>1</td>\n",
       "      <td>0</td>\n",
       "    </tr>\n",
       "    <tr>\n",
       "      <th>263928</th>\n",
       "      <td>11072</td>\n",
       "      <td>104616</td>\n",
       "      <td>9</td>\n",
       "      <td>Phantom Leader</td>\n",
       "      <td>27848</td>\n",
       "      <td>76</td>\n",
       "      <td>4285</td>\n",
       "      <td>0.00</td>\n",
       "      <td>112</td>\n",
       "      <td>1</td>\n",
       "      <td>1</td>\n",
       "    </tr>\n",
       "  </tbody>\n",
       "</table>\n",
       "</div>"
      ],
      "text/plain": [
       "        user_id  book_id  rating  \\\n",
       "144978     9084    18000       5   \n",
       "52814     48384    30684      10   \n",
       "229011    13975   107905       9   \n",
       "157957    25491    77769       8   \n",
       "263928    11072   104616       9   \n",
       "\n",
       "                                                    title  author  year  \\\n",
       "144978                                            unknown   43578    80   \n",
       "52814                                        The Brethren   20927    85   \n",
       "229011                                         Summerland   29324    87   \n",
       "157957   paper Junie B Jones and the Yucky Blucky Frui...    3660    79   \n",
       "263928                                     Phantom Leader   27848    76   \n",
       "\n",
       "        publisher   age  country  region  age_missing  \n",
       "144978       8607  0.00       66       2            1  \n",
       "52814        4146  0.30       90       3            0  \n",
       "229011       5197  0.40      112       1            0  \n",
       "157957       6485  0.34      112       1            0  \n",
       "263928       4285  0.00      112       1            1  "
      ]
     },
     "execution_count": 87,
     "metadata": {},
     "output_type": "execute_result"
    }
   ],
   "source": [
    "train_xgb.head()"
   ]
  },
  {
   "cell_type": "code",
   "execution_count": 88,
   "metadata": {},
   "outputs": [],
   "source": [
    "X_train_xgb = train_xgb[['author', 'publisher', 'year', 'region', 'age_missing', 'country', 'user_id', 'book_id', 'age']]\n",
    "y_train_xgb = train_xgb['rating']\n",
    "\n",
    "X_test_xgb = test_xgb[['author', 'publisher', 'year', 'region', 'age_missing', 'country', 'user_id', 'book_id', 'age']]"
   ]
  },
  {
   "cell_type": "code",
   "execution_count": 89,
   "metadata": {},
   "outputs": [],
   "source": [
    "# train test split\n",
    "X_train, X_val, y_train, y_val = train_test_split(X_train_xgb, y_train_xgb, test_size=0.2, random_state=42)"
   ]
  },
  {
   "cell_type": "code",
   "execution_count": 90,
   "metadata": {},
   "outputs": [],
   "source": [
    "# train the model\n",
    "xgb_model = XGBRegressor()"
   ]
  },
  {
   "cell_type": "code",
   "execution_count": 91,
   "metadata": {},
   "outputs": [
    {
     "data": {
      "text/html": [
       "<style>#sk-container-id-1 {color: black;background-color: white;}#sk-container-id-1 pre{padding: 0;}#sk-container-id-1 div.sk-toggleable {background-color: white;}#sk-container-id-1 label.sk-toggleable__label {cursor: pointer;display: block;width: 100%;margin-bottom: 0;padding: 0.3em;box-sizing: border-box;text-align: center;}#sk-container-id-1 label.sk-toggleable__label-arrow:before {content: \"▸\";float: left;margin-right: 0.25em;color: #696969;}#sk-container-id-1 label.sk-toggleable__label-arrow:hover:before {color: black;}#sk-container-id-1 div.sk-estimator:hover label.sk-toggleable__label-arrow:before {color: black;}#sk-container-id-1 div.sk-toggleable__content {max-height: 0;max-width: 0;overflow: hidden;text-align: left;background-color: #f0f8ff;}#sk-container-id-1 div.sk-toggleable__content pre {margin: 0.2em;color: black;border-radius: 0.25em;background-color: #f0f8ff;}#sk-container-id-1 input.sk-toggleable__control:checked~div.sk-toggleable__content {max-height: 200px;max-width: 100%;overflow: auto;}#sk-container-id-1 input.sk-toggleable__control:checked~label.sk-toggleable__label-arrow:before {content: \"▾\";}#sk-container-id-1 div.sk-estimator input.sk-toggleable__control:checked~label.sk-toggleable__label {background-color: #d4ebff;}#sk-container-id-1 div.sk-label input.sk-toggleable__control:checked~label.sk-toggleable__label {background-color: #d4ebff;}#sk-container-id-1 input.sk-hidden--visually {border: 0;clip: rect(1px 1px 1px 1px);clip: rect(1px, 1px, 1px, 1px);height: 1px;margin: -1px;overflow: hidden;padding: 0;position: absolute;width: 1px;}#sk-container-id-1 div.sk-estimator {font-family: monospace;background-color: #f0f8ff;border: 1px dotted black;border-radius: 0.25em;box-sizing: border-box;margin-bottom: 0.5em;}#sk-container-id-1 div.sk-estimator:hover {background-color: #d4ebff;}#sk-container-id-1 div.sk-parallel-item::after {content: \"\";width: 100%;border-bottom: 1px solid gray;flex-grow: 1;}#sk-container-id-1 div.sk-label:hover label.sk-toggleable__label {background-color: #d4ebff;}#sk-container-id-1 div.sk-serial::before {content: \"\";position: absolute;border-left: 1px solid gray;box-sizing: border-box;top: 0;bottom: 0;left: 50%;z-index: 0;}#sk-container-id-1 div.sk-serial {display: flex;flex-direction: column;align-items: center;background-color: white;padding-right: 0.2em;padding-left: 0.2em;position: relative;}#sk-container-id-1 div.sk-item {position: relative;z-index: 1;}#sk-container-id-1 div.sk-parallel {display: flex;align-items: stretch;justify-content: center;background-color: white;position: relative;}#sk-container-id-1 div.sk-item::before, #sk-container-id-1 div.sk-parallel-item::before {content: \"\";position: absolute;border-left: 1px solid gray;box-sizing: border-box;top: 0;bottom: 0;left: 50%;z-index: -1;}#sk-container-id-1 div.sk-parallel-item {display: flex;flex-direction: column;z-index: 1;position: relative;background-color: white;}#sk-container-id-1 div.sk-parallel-item:first-child::after {align-self: flex-end;width: 50%;}#sk-container-id-1 div.sk-parallel-item:last-child::after {align-self: flex-start;width: 50%;}#sk-container-id-1 div.sk-parallel-item:only-child::after {width: 0;}#sk-container-id-1 div.sk-dashed-wrapped {border: 1px dashed gray;margin: 0 0.4em 0.5em 0.4em;box-sizing: border-box;padding-bottom: 0.4em;background-color: white;}#sk-container-id-1 div.sk-label label {font-family: monospace;font-weight: bold;display: inline-block;line-height: 1.2em;}#sk-container-id-1 div.sk-label-container {text-align: center;}#sk-container-id-1 div.sk-container {/* jupyter's `normalize.less` sets `[hidden] { display: none; }` but bootstrap.min.css set `[hidden] { display: none !important; }` so we also need the `!important` here to be able to override the default hidden behavior on the sphinx rendered scikit-learn.org. See: https://github.com/scikit-learn/scikit-learn/issues/21755 */display: inline-block !important;position: relative;}#sk-container-id-1 div.sk-text-repr-fallback {display: none;}</style><div id=\"sk-container-id-1\" class=\"sk-top-container\"><div class=\"sk-text-repr-fallback\"><pre>XGBRegressor(base_score=None, booster=None, callbacks=None,\n",
       "             colsample_bylevel=None, colsample_bynode=None,\n",
       "             colsample_bytree=None, early_stopping_rounds=None,\n",
       "             enable_categorical=False, eval_metric=None, feature_types=None,\n",
       "             gamma=None, gpu_id=None, grow_policy=None, importance_type=None,\n",
       "             interaction_constraints=None, learning_rate=None, max_bin=None,\n",
       "             max_cat_threshold=None, max_cat_to_onehot=None,\n",
       "             max_delta_step=None, max_depth=None, max_leaves=None,\n",
       "             min_child_weight=None, missing=nan, monotone_constraints=None,\n",
       "             n_estimators=100, n_jobs=None, num_parallel_tree=None,\n",
       "             predictor=None, random_state=None, ...)</pre><b>In a Jupyter environment, please rerun this cell to show the HTML representation or trust the notebook. <br />On GitHub, the HTML representation is unable to render, please try loading this page with nbviewer.org.</b></div><div class=\"sk-container\" hidden><div class=\"sk-item\"><div class=\"sk-estimator sk-toggleable\"><input class=\"sk-toggleable__control sk-hidden--visually\" id=\"sk-estimator-id-1\" type=\"checkbox\" checked><label for=\"sk-estimator-id-1\" class=\"sk-toggleable__label sk-toggleable__label-arrow\">XGBRegressor</label><div class=\"sk-toggleable__content\"><pre>XGBRegressor(base_score=None, booster=None, callbacks=None,\n",
       "             colsample_bylevel=None, colsample_bynode=None,\n",
       "             colsample_bytree=None, early_stopping_rounds=None,\n",
       "             enable_categorical=False, eval_metric=None, feature_types=None,\n",
       "             gamma=None, gpu_id=None, grow_policy=None, importance_type=None,\n",
       "             interaction_constraints=None, learning_rate=None, max_bin=None,\n",
       "             max_cat_threshold=None, max_cat_to_onehot=None,\n",
       "             max_delta_step=None, max_depth=None, max_leaves=None,\n",
       "             min_child_weight=None, missing=nan, monotone_constraints=None,\n",
       "             n_estimators=100, n_jobs=None, num_parallel_tree=None,\n",
       "             predictor=None, random_state=None, ...)</pre></div></div></div></div></div>"
      ],
      "text/plain": [
       "XGBRegressor(base_score=None, booster=None, callbacks=None,\n",
       "             colsample_bylevel=None, colsample_bynode=None,\n",
       "             colsample_bytree=None, early_stopping_rounds=None,\n",
       "             enable_categorical=False, eval_metric=None, feature_types=None,\n",
       "             gamma=None, gpu_id=None, grow_policy=None, importance_type=None,\n",
       "             interaction_constraints=None, learning_rate=None, max_bin=None,\n",
       "             max_cat_threshold=None, max_cat_to_onehot=None,\n",
       "             max_delta_step=None, max_depth=None, max_leaves=None,\n",
       "             min_child_weight=None, missing=nan, monotone_constraints=None,\n",
       "             n_estimators=100, n_jobs=None, num_parallel_tree=None,\n",
       "             predictor=None, random_state=None, ...)"
      ]
     },
     "execution_count": 91,
     "metadata": {},
     "output_type": "execute_result"
    }
   ],
   "source": [
    "xgb_model.fit(X_train, y_train)"
   ]
  },
  {
   "cell_type": "code",
   "execution_count": 92,
   "metadata": {},
   "outputs": [],
   "source": [
    "# predict the ratings for the validation data\n",
    "predictions = xgb_model.predict(X_val)"
   ]
  },
  {
   "cell_type": "code",
   "execution_count": 93,
   "metadata": {},
   "outputs": [
    {
     "data": {
      "text/plain": [
       "array([7.317499 , 7.210125 , 7.6401668, ..., 7.540548 , 7.6343794,\n",
       "       8.009657 ], dtype=float32)"
      ]
     },
     "execution_count": 93,
     "metadata": {},
     "output_type": "execute_result"
    }
   ],
   "source": [
    "predictions"
   ]
  },
  {
   "cell_type": "code",
   "execution_count": 94,
   "metadata": {},
   "outputs": [
    {
     "name": "stdout",
     "output_type": "stream",
     "text": [
      "RMSE:  1.7404442219110507\n"
     ]
    }
   ],
   "source": [
    "# Calculate the RMSE\n",
    "rmse = sqrt(mean_squared_error(y_val, predictions))\n",
    "\n",
    "print(\"RMSE: \", rmse)"
   ]
  },
  {
   "cell_type": "code",
   "execution_count": 95,
   "metadata": {},
   "outputs": [],
   "source": [
    "# predict the ratings for the test data\n",
    "predictions = xgb_model.predict(X_test_xgb)\n"
   ]
  },
  {
   "cell_type": "code",
   "execution_count": 96,
   "metadata": {},
   "outputs": [
    {
     "data": {
      "text/plain": [
       "array([7.3578234, 7.87281  , 7.331409 , ..., 6.976823 , 7.3718224,\n",
       "       7.229645 ], dtype=float32)"
      ]
     },
     "execution_count": 96,
     "metadata": {},
     "output_type": "execute_result"
    }
   ],
   "source": [
    "predictions"
   ]
  },
  {
   "cell_type": "code",
   "execution_count": 97,
   "metadata": {},
   "outputs": [],
   "source": [
    "submission = pd.read_csv(\"./dataset/sample_submission.csv\")\n",
    "\n",
    "submission['Rating'] = predictions\n",
    "\n",
    "submission.to_csv('submission_xgb.csv', index=False)"
   ]
  },
  {
   "cell_type": "markdown",
   "metadata": {},
   "source": [
    "## XBG Classifier"
   ]
  },
  {
   "cell_type": "code",
   "execution_count": 98,
   "metadata": {},
   "outputs": [
    {
     "data": {
      "text/html": [
       "<div>\n",
       "<style scoped>\n",
       "    .dataframe tbody tr th:only-of-type {\n",
       "        vertical-align: middle;\n",
       "    }\n",
       "\n",
       "    .dataframe tbody tr th {\n",
       "        vertical-align: top;\n",
       "    }\n",
       "\n",
       "    .dataframe thead th {\n",
       "        text-align: right;\n",
       "    }\n",
       "</style>\n",
       "<table border=\"1\" class=\"dataframe\">\n",
       "  <thead>\n",
       "    <tr style=\"text-align: right;\">\n",
       "      <th></th>\n",
       "      <th>user_id</th>\n",
       "      <th>book_id</th>\n",
       "      <th>rating</th>\n",
       "      <th>title</th>\n",
       "      <th>author</th>\n",
       "      <th>year</th>\n",
       "      <th>publisher</th>\n",
       "      <th>age</th>\n",
       "      <th>country</th>\n",
       "      <th>region</th>\n",
       "      <th>age_missing</th>\n",
       "    </tr>\n",
       "  </thead>\n",
       "  <tbody>\n",
       "    <tr>\n",
       "      <th>144978</th>\n",
       "      <td>9084</td>\n",
       "      <td>18000</td>\n",
       "      <td>5</td>\n",
       "      <td>unknown</td>\n",
       "      <td>43578</td>\n",
       "      <td>80</td>\n",
       "      <td>8607</td>\n",
       "      <td>0.00</td>\n",
       "      <td>66</td>\n",
       "      <td>2</td>\n",
       "      <td>1</td>\n",
       "    </tr>\n",
       "    <tr>\n",
       "      <th>52814</th>\n",
       "      <td>48384</td>\n",
       "      <td>30684</td>\n",
       "      <td>10</td>\n",
       "      <td>The Brethren</td>\n",
       "      <td>20927</td>\n",
       "      <td>85</td>\n",
       "      <td>4146</td>\n",
       "      <td>0.30</td>\n",
       "      <td>90</td>\n",
       "      <td>3</td>\n",
       "      <td>0</td>\n",
       "    </tr>\n",
       "    <tr>\n",
       "      <th>229011</th>\n",
       "      <td>13975</td>\n",
       "      <td>107905</td>\n",
       "      <td>9</td>\n",
       "      <td>Summerland</td>\n",
       "      <td>29324</td>\n",
       "      <td>87</td>\n",
       "      <td>5197</td>\n",
       "      <td>0.40</td>\n",
       "      <td>112</td>\n",
       "      <td>1</td>\n",
       "      <td>0</td>\n",
       "    </tr>\n",
       "    <tr>\n",
       "      <th>157957</th>\n",
       "      <td>25491</td>\n",
       "      <td>77769</td>\n",
       "      <td>8</td>\n",
       "      <td>paper Junie B Jones and the Yucky Blucky Frui...</td>\n",
       "      <td>3660</td>\n",
       "      <td>79</td>\n",
       "      <td>6485</td>\n",
       "      <td>0.34</td>\n",
       "      <td>112</td>\n",
       "      <td>1</td>\n",
       "      <td>0</td>\n",
       "    </tr>\n",
       "    <tr>\n",
       "      <th>263928</th>\n",
       "      <td>11072</td>\n",
       "      <td>104616</td>\n",
       "      <td>9</td>\n",
       "      <td>Phantom Leader</td>\n",
       "      <td>27848</td>\n",
       "      <td>76</td>\n",
       "      <td>4285</td>\n",
       "      <td>0.00</td>\n",
       "      <td>112</td>\n",
       "      <td>1</td>\n",
       "      <td>1</td>\n",
       "    </tr>\n",
       "  </tbody>\n",
       "</table>\n",
       "</div>"
      ],
      "text/plain": [
       "        user_id  book_id  rating  \\\n",
       "144978     9084    18000       5   \n",
       "52814     48384    30684      10   \n",
       "229011    13975   107905       9   \n",
       "157957    25491    77769       8   \n",
       "263928    11072   104616       9   \n",
       "\n",
       "                                                    title  author  year  \\\n",
       "144978                                            unknown   43578    80   \n",
       "52814                                        The Brethren   20927    85   \n",
       "229011                                         Summerland   29324    87   \n",
       "157957   paper Junie B Jones and the Yucky Blucky Frui...    3660    79   \n",
       "263928                                     Phantom Leader   27848    76   \n",
       "\n",
       "        publisher   age  country  region  age_missing  \n",
       "144978       8607  0.00       66       2            1  \n",
       "52814        4146  0.30       90       3            0  \n",
       "229011       5197  0.40      112       1            0  \n",
       "157957       6485  0.34      112       1            0  \n",
       "263928       4285  0.00      112       1            1  "
      ]
     },
     "execution_count": 98,
     "metadata": {},
     "output_type": "execute_result"
    }
   ],
   "source": [
    "train_xgb.head()"
   ]
  },
  {
   "cell_type": "code",
   "execution_count": 99,
   "metadata": {},
   "outputs": [
    {
     "data": {
      "text/html": [
       "<div>\n",
       "<style scoped>\n",
       "    .dataframe tbody tr th:only-of-type {\n",
       "        vertical-align: middle;\n",
       "    }\n",
       "\n",
       "    .dataframe tbody tr th {\n",
       "        vertical-align: top;\n",
       "    }\n",
       "\n",
       "    .dataframe thead th {\n",
       "        text-align: right;\n",
       "    }\n",
       "</style>\n",
       "<table border=\"1\" class=\"dataframe\">\n",
       "  <thead>\n",
       "    <tr style=\"text-align: right;\">\n",
       "      <th></th>\n",
       "      <th>user_id</th>\n",
       "      <th>book_id</th>\n",
       "      <th>title</th>\n",
       "      <th>author</th>\n",
       "      <th>year</th>\n",
       "      <th>publisher</th>\n",
       "      <th>age</th>\n",
       "      <th>country</th>\n",
       "      <th>region</th>\n",
       "      <th>age_missing</th>\n",
       "    </tr>\n",
       "  </thead>\n",
       "  <tbody>\n",
       "    <tr>\n",
       "      <th>0</th>\n",
       "      <td>723</td>\n",
       "      <td>11823</td>\n",
       "      <td>The Mists of Avalon</td>\n",
       "      <td>9779</td>\n",
       "      <td>56</td>\n",
       "      <td>982</td>\n",
       "      <td>0.43</td>\n",
       "      <td>40</td>\n",
       "      <td>1</td>\n",
       "      <td>0</td>\n",
       "    </tr>\n",
       "    <tr>\n",
       "      <th>1</th>\n",
       "      <td>2268</td>\n",
       "      <td>24515</td>\n",
       "      <td>The BLACK ALBUM</td>\n",
       "      <td>5588</td>\n",
       "      <td>66</td>\n",
       "      <td>3037</td>\n",
       "      <td>0.27</td>\n",
       "      <td>32</td>\n",
       "      <td>3</td>\n",
       "      <td>0</td>\n",
       "    </tr>\n",
       "    <tr>\n",
       "      <th>2</th>\n",
       "      <td>1601</td>\n",
       "      <td>6629</td>\n",
       "      <td>Harry Potter and the Chamber of Secrets Book 2</td>\n",
       "      <td>6181</td>\n",
       "      <td>70</td>\n",
       "      <td>3013</td>\n",
       "      <td>0.38</td>\n",
       "      <td>40</td>\n",
       "      <td>1</td>\n",
       "      <td>0</td>\n",
       "    </tr>\n",
       "    <tr>\n",
       "      <th>3</th>\n",
       "      <td>992</td>\n",
       "      <td>6836</td>\n",
       "      <td>The Wicca Handbook</td>\n",
       "      <td>4137</td>\n",
       "      <td>70</td>\n",
       "      <td>3651</td>\n",
       "      <td>0.63</td>\n",
       "      <td>29</td>\n",
       "      <td>5</td>\n",
       "      <td>0</td>\n",
       "    </tr>\n",
       "    <tr>\n",
       "      <th>4</th>\n",
       "      <td>3544</td>\n",
       "      <td>3053</td>\n",
       "      <td>Lily White</td>\n",
       "      <td>14481</td>\n",
       "      <td>67</td>\n",
       "      <td>1599</td>\n",
       "      <td>0.46</td>\n",
       "      <td>40</td>\n",
       "      <td>1</td>\n",
       "      <td>0</td>\n",
       "    </tr>\n",
       "  </tbody>\n",
       "</table>\n",
       "</div>"
      ],
      "text/plain": [
       "   user_id  book_id                                           title  author  \\\n",
       "0      723    11823                             The Mists of Avalon    9779   \n",
       "1     2268    24515                                 The BLACK ALBUM    5588   \n",
       "2     1601     6629  Harry Potter and the Chamber of Secrets Book 2    6181   \n",
       "3      992     6836                              The Wicca Handbook    4137   \n",
       "4     3544     3053                                      Lily White   14481   \n",
       "\n",
       "   year  publisher   age  country  region  age_missing  \n",
       "0    56        982  0.43       40       1            0  \n",
       "1    66       3037  0.27       32       3            0  \n",
       "2    70       3013  0.38       40       1            0  \n",
       "3    70       3651  0.63       29       5            0  \n",
       "4    67       1599  0.46       40       1            0  "
      ]
     },
     "execution_count": 99,
     "metadata": {},
     "output_type": "execute_result"
    }
   ],
   "source": [
    "test_xgb.head()"
   ]
  },
  {
   "cell_type": "code",
   "execution_count": 100,
   "metadata": {},
   "outputs": [],
   "source": [
    "xgb_clf = XGBClassifier()"
   ]
  },
  {
   "cell_type": "code",
   "execution_count": 101,
   "metadata": {},
   "outputs": [
    {
     "data": {
      "text/html": [
       "<style>#sk-container-id-2 {color: black;background-color: white;}#sk-container-id-2 pre{padding: 0;}#sk-container-id-2 div.sk-toggleable {background-color: white;}#sk-container-id-2 label.sk-toggleable__label {cursor: pointer;display: block;width: 100%;margin-bottom: 0;padding: 0.3em;box-sizing: border-box;text-align: center;}#sk-container-id-2 label.sk-toggleable__label-arrow:before {content: \"▸\";float: left;margin-right: 0.25em;color: #696969;}#sk-container-id-2 label.sk-toggleable__label-arrow:hover:before {color: black;}#sk-container-id-2 div.sk-estimator:hover label.sk-toggleable__label-arrow:before {color: black;}#sk-container-id-2 div.sk-toggleable__content {max-height: 0;max-width: 0;overflow: hidden;text-align: left;background-color: #f0f8ff;}#sk-container-id-2 div.sk-toggleable__content pre {margin: 0.2em;color: black;border-radius: 0.25em;background-color: #f0f8ff;}#sk-container-id-2 input.sk-toggleable__control:checked~div.sk-toggleable__content {max-height: 200px;max-width: 100%;overflow: auto;}#sk-container-id-2 input.sk-toggleable__control:checked~label.sk-toggleable__label-arrow:before {content: \"▾\";}#sk-container-id-2 div.sk-estimator input.sk-toggleable__control:checked~label.sk-toggleable__label {background-color: #d4ebff;}#sk-container-id-2 div.sk-label input.sk-toggleable__control:checked~label.sk-toggleable__label {background-color: #d4ebff;}#sk-container-id-2 input.sk-hidden--visually {border: 0;clip: rect(1px 1px 1px 1px);clip: rect(1px, 1px, 1px, 1px);height: 1px;margin: -1px;overflow: hidden;padding: 0;position: absolute;width: 1px;}#sk-container-id-2 div.sk-estimator {font-family: monospace;background-color: #f0f8ff;border: 1px dotted black;border-radius: 0.25em;box-sizing: border-box;margin-bottom: 0.5em;}#sk-container-id-2 div.sk-estimator:hover {background-color: #d4ebff;}#sk-container-id-2 div.sk-parallel-item::after {content: \"\";width: 100%;border-bottom: 1px solid gray;flex-grow: 1;}#sk-container-id-2 div.sk-label:hover label.sk-toggleable__label {background-color: #d4ebff;}#sk-container-id-2 div.sk-serial::before {content: \"\";position: absolute;border-left: 1px solid gray;box-sizing: border-box;top: 0;bottom: 0;left: 50%;z-index: 0;}#sk-container-id-2 div.sk-serial {display: flex;flex-direction: column;align-items: center;background-color: white;padding-right: 0.2em;padding-left: 0.2em;position: relative;}#sk-container-id-2 div.sk-item {position: relative;z-index: 1;}#sk-container-id-2 div.sk-parallel {display: flex;align-items: stretch;justify-content: center;background-color: white;position: relative;}#sk-container-id-2 div.sk-item::before, #sk-container-id-2 div.sk-parallel-item::before {content: \"\";position: absolute;border-left: 1px solid gray;box-sizing: border-box;top: 0;bottom: 0;left: 50%;z-index: -1;}#sk-container-id-2 div.sk-parallel-item {display: flex;flex-direction: column;z-index: 1;position: relative;background-color: white;}#sk-container-id-2 div.sk-parallel-item:first-child::after {align-self: flex-end;width: 50%;}#sk-container-id-2 div.sk-parallel-item:last-child::after {align-self: flex-start;width: 50%;}#sk-container-id-2 div.sk-parallel-item:only-child::after {width: 0;}#sk-container-id-2 div.sk-dashed-wrapped {border: 1px dashed gray;margin: 0 0.4em 0.5em 0.4em;box-sizing: border-box;padding-bottom: 0.4em;background-color: white;}#sk-container-id-2 div.sk-label label {font-family: monospace;font-weight: bold;display: inline-block;line-height: 1.2em;}#sk-container-id-2 div.sk-label-container {text-align: center;}#sk-container-id-2 div.sk-container {/* jupyter's `normalize.less` sets `[hidden] { display: none; }` but bootstrap.min.css set `[hidden] { display: none !important; }` so we also need the `!important` here to be able to override the default hidden behavior on the sphinx rendered scikit-learn.org. See: https://github.com/scikit-learn/scikit-learn/issues/21755 */display: inline-block !important;position: relative;}#sk-container-id-2 div.sk-text-repr-fallback {display: none;}</style><div id=\"sk-container-id-2\" class=\"sk-top-container\"><div class=\"sk-text-repr-fallback\"><pre>XGBClassifier(base_score=None, booster=None, callbacks=None,\n",
       "              colsample_bylevel=None, colsample_bynode=None,\n",
       "              colsample_bytree=None, early_stopping_rounds=None,\n",
       "              enable_categorical=False, eval_metric=None, feature_types=None,\n",
       "              gamma=None, gpu_id=None, grow_policy=None, importance_type=None,\n",
       "              interaction_constraints=None, learning_rate=None, max_bin=None,\n",
       "              max_cat_threshold=None, max_cat_to_onehot=None,\n",
       "              max_delta_step=None, max_depth=None, max_leaves=None,\n",
       "              min_child_weight=None, missing=nan, monotone_constraints=None,\n",
       "              n_estimators=100, n_jobs=None, num_parallel_tree=None,\n",
       "              objective=&#x27;multi:softprob&#x27;, predictor=None, ...)</pre><b>In a Jupyter environment, please rerun this cell to show the HTML representation or trust the notebook. <br />On GitHub, the HTML representation is unable to render, please try loading this page with nbviewer.org.</b></div><div class=\"sk-container\" hidden><div class=\"sk-item\"><div class=\"sk-estimator sk-toggleable\"><input class=\"sk-toggleable__control sk-hidden--visually\" id=\"sk-estimator-id-2\" type=\"checkbox\" checked><label for=\"sk-estimator-id-2\" class=\"sk-toggleable__label sk-toggleable__label-arrow\">XGBClassifier</label><div class=\"sk-toggleable__content\"><pre>XGBClassifier(base_score=None, booster=None, callbacks=None,\n",
       "              colsample_bylevel=None, colsample_bynode=None,\n",
       "              colsample_bytree=None, early_stopping_rounds=None,\n",
       "              enable_categorical=False, eval_metric=None, feature_types=None,\n",
       "              gamma=None, gpu_id=None, grow_policy=None, importance_type=None,\n",
       "              interaction_constraints=None, learning_rate=None, max_bin=None,\n",
       "              max_cat_threshold=None, max_cat_to_onehot=None,\n",
       "              max_delta_step=None, max_depth=None, max_leaves=None,\n",
       "              min_child_weight=None, missing=nan, monotone_constraints=None,\n",
       "              n_estimators=100, n_jobs=None, num_parallel_tree=None,\n",
       "              objective=&#x27;multi:softprob&#x27;, predictor=None, ...)</pre></div></div></div></div></div>"
      ],
      "text/plain": [
       "XGBClassifier(base_score=None, booster=None, callbacks=None,\n",
       "              colsample_bylevel=None, colsample_bynode=None,\n",
       "              colsample_bytree=None, early_stopping_rounds=None,\n",
       "              enable_categorical=False, eval_metric=None, feature_types=None,\n",
       "              gamma=None, gpu_id=None, grow_policy=None, importance_type=None,\n",
       "              interaction_constraints=None, learning_rate=None, max_bin=None,\n",
       "              max_cat_threshold=None, max_cat_to_onehot=None,\n",
       "              max_delta_step=None, max_depth=None, max_leaves=None,\n",
       "              min_child_weight=None, missing=nan, monotone_constraints=None,\n",
       "              n_estimators=100, n_jobs=None, num_parallel_tree=None,\n",
       "              objective='multi:softprob', predictor=None, ...)"
      ]
     },
     "execution_count": 101,
     "metadata": {},
     "output_type": "execute_result"
    }
   ],
   "source": [
    "xgb_clf.fit(X_train, y_train-1) # subtract 1 to make the ratings start from 0 instead of 1 for the classifier"
   ]
  },
  {
   "cell_type": "code",
   "execution_count": 102,
   "metadata": {},
   "outputs": [
    {
     "data": {
      "text/plain": [
       "array([ 8,  8,  8, ...,  8, 10,  8])"
      ]
     },
     "execution_count": 102,
     "metadata": {},
     "output_type": "execute_result"
    }
   ],
   "source": [
    "# predict the ratings for the validation data\n",
    "predictions = xgb_clf.predict(X_val) + 1 # add 1 to make the ratings start from 1 instead of 0 for the classifier\n",
    "\n",
    "predictions"
   ]
  },
  {
   "cell_type": "code",
   "execution_count": 103,
   "metadata": {},
   "outputs": [
    {
     "name": "stdout",
     "output_type": "stream",
     "text": [
      "RMSE:  1.9821890632399612\n"
     ]
    }
   ],
   "source": [
    "# Calculate the RMSE\n",
    "\n",
    "rmse = sqrt(mean_squared_error(y_val, predictions))\n",
    "\n",
    "print(\"RMSE: \", rmse)"
   ]
  },
  {
   "cell_type": "code",
   "execution_count": 104,
   "metadata": {},
   "outputs": [
    {
     "data": {
      "text/plain": [
       "array([ 7,  8, 10, ...,  8,  7,  8])"
      ]
     },
     "execution_count": 104,
     "metadata": {},
     "output_type": "execute_result"
    }
   ],
   "source": [
    "# predict the ratings for the test data\n",
    "predictions = xgb_clf.predict(X_test_xgb) + 1\n",
    "\n",
    "predictions"
   ]
  },
  {
   "cell_type": "code",
   "execution_count": 105,
   "metadata": {},
   "outputs": [],
   "source": [
    "submission = pd.read_csv(\"./dataset/sample_submission.csv\")\n",
    "\n",
    "submission['Rating'] = predictions\n",
    "\n",
    "submission.to_csv('submission_xgb_clf.csv', index=False)"
   ]
  },
  {
   "cell_type": "markdown",
   "metadata": {},
   "source": [
    "## Using the XGBClassifier output as input to the XGBRegressor"
   ]
  },
  {
   "cell_type": "code",
   "execution_count": 106,
   "metadata": {},
   "outputs": [],
   "source": [
    "X_train['xgb_rating'] = xgb_clf.predict(X_train) + 1\n",
    "X_val['xgb_rating'] = xgb_clf.predict(X_val) + 1"
   ]
  },
  {
   "cell_type": "code",
   "execution_count": 107,
   "metadata": {},
   "outputs": [
    {
     "data": {
      "text/html": [
       "<div>\n",
       "<style scoped>\n",
       "    .dataframe tbody tr th:only-of-type {\n",
       "        vertical-align: middle;\n",
       "    }\n",
       "\n",
       "    .dataframe tbody tr th {\n",
       "        vertical-align: top;\n",
       "    }\n",
       "\n",
       "    .dataframe thead th {\n",
       "        text-align: right;\n",
       "    }\n",
       "</style>\n",
       "<table border=\"1\" class=\"dataframe\">\n",
       "  <thead>\n",
       "    <tr style=\"text-align: right;\">\n",
       "      <th></th>\n",
       "      <th>author</th>\n",
       "      <th>publisher</th>\n",
       "      <th>year</th>\n",
       "      <th>region</th>\n",
       "      <th>age_missing</th>\n",
       "      <th>country</th>\n",
       "      <th>user_id</th>\n",
       "      <th>book_id</th>\n",
       "      <th>age</th>\n",
       "      <th>xgb_rating</th>\n",
       "    </tr>\n",
       "  </thead>\n",
       "  <tbody>\n",
       "    <tr>\n",
       "      <th>88509</th>\n",
       "      <td>8349</td>\n",
       "      <td>6483</td>\n",
       "      <td>82</td>\n",
       "      <td>1</td>\n",
       "      <td>1</td>\n",
       "      <td>112</td>\n",
       "      <td>35991</td>\n",
       "      <td>73472</td>\n",
       "      <td>0.00</td>\n",
       "      <td>8</td>\n",
       "    </tr>\n",
       "    <tr>\n",
       "      <th>6464</th>\n",
       "      <td>37461</td>\n",
       "      <td>1078</td>\n",
       "      <td>76</td>\n",
       "      <td>1</td>\n",
       "      <td>1</td>\n",
       "      <td>112</td>\n",
       "      <td>22464</td>\n",
       "      <td>120683</td>\n",
       "      <td>0.00</td>\n",
       "      <td>5</td>\n",
       "    </tr>\n",
       "    <tr>\n",
       "      <th>132134</th>\n",
       "      <td>43578</td>\n",
       "      <td>8607</td>\n",
       "      <td>80</td>\n",
       "      <td>3</td>\n",
       "      <td>0</td>\n",
       "      <td>74</td>\n",
       "      <td>3697</td>\n",
       "      <td>75252</td>\n",
       "      <td>0.48</td>\n",
       "      <td>8</td>\n",
       "    </tr>\n",
       "    <tr>\n",
       "      <th>282212</th>\n",
       "      <td>35999</td>\n",
       "      <td>3617</td>\n",
       "      <td>83</td>\n",
       "      <td>5</td>\n",
       "      <td>0</td>\n",
       "      <td>81</td>\n",
       "      <td>29449</td>\n",
       "      <td>86671</td>\n",
       "      <td>0.29</td>\n",
       "      <td>10</td>\n",
       "    </tr>\n",
       "    <tr>\n",
       "      <th>127022</th>\n",
       "      <td>31093</td>\n",
       "      <td>3308</td>\n",
       "      <td>85</td>\n",
       "      <td>3</td>\n",
       "      <td>0</td>\n",
       "      <td>39</td>\n",
       "      <td>43404</td>\n",
       "      <td>46488</td>\n",
       "      <td>0.21</td>\n",
       "      <td>8</td>\n",
       "    </tr>\n",
       "  </tbody>\n",
       "</table>\n",
       "</div>"
      ],
      "text/plain": [
       "        author  publisher  year  region  age_missing  country  user_id  \\\n",
       "88509     8349       6483    82       1            1      112    35991   \n",
       "6464     37461       1078    76       1            1      112    22464   \n",
       "132134   43578       8607    80       3            0       74     3697   \n",
       "282212   35999       3617    83       5            0       81    29449   \n",
       "127022   31093       3308    85       3            0       39    43404   \n",
       "\n",
       "        book_id   age  xgb_rating  \n",
       "88509     73472  0.00           8  \n",
       "6464     120683  0.00           5  \n",
       "132134    75252  0.48           8  \n",
       "282212    86671  0.29          10  \n",
       "127022    46488  0.21           8  "
      ]
     },
     "execution_count": 107,
     "metadata": {},
     "output_type": "execute_result"
    }
   ],
   "source": [
    "X_train.head()"
   ]
  },
  {
   "cell_type": "code",
   "execution_count": 108,
   "metadata": {},
   "outputs": [
    {
     "data": {
      "text/html": [
       "<div>\n",
       "<style scoped>\n",
       "    .dataframe tbody tr th:only-of-type {\n",
       "        vertical-align: middle;\n",
       "    }\n",
       "\n",
       "    .dataframe tbody tr th {\n",
       "        vertical-align: top;\n",
       "    }\n",
       "\n",
       "    .dataframe thead th {\n",
       "        text-align: right;\n",
       "    }\n",
       "</style>\n",
       "<table border=\"1\" class=\"dataframe\">\n",
       "  <thead>\n",
       "    <tr style=\"text-align: right;\">\n",
       "      <th></th>\n",
       "      <th>author</th>\n",
       "      <th>publisher</th>\n",
       "      <th>year</th>\n",
       "      <th>region</th>\n",
       "      <th>age_missing</th>\n",
       "      <th>country</th>\n",
       "      <th>user_id</th>\n",
       "      <th>book_id</th>\n",
       "      <th>age</th>\n",
       "      <th>xgb_rating</th>\n",
       "    </tr>\n",
       "  </thead>\n",
       "  <tbody>\n",
       "    <tr>\n",
       "      <th>171815</th>\n",
       "      <td>23301</td>\n",
       "      <td>6651</td>\n",
       "      <td>81</td>\n",
       "      <td>1</td>\n",
       "      <td>1</td>\n",
       "      <td>112</td>\n",
       "      <td>4543</td>\n",
       "      <td>23449</td>\n",
       "      <td>0.00</td>\n",
       "      <td>8</td>\n",
       "    </tr>\n",
       "    <tr>\n",
       "      <th>221523</th>\n",
       "      <td>34788</td>\n",
       "      <td>6310</td>\n",
       "      <td>78</td>\n",
       "      <td>1</td>\n",
       "      <td>1</td>\n",
       "      <td>112</td>\n",
       "      <td>17226</td>\n",
       "      <td>100589</td>\n",
       "      <td>0.00</td>\n",
       "      <td>8</td>\n",
       "    </tr>\n",
       "    <tr>\n",
       "      <th>290984</th>\n",
       "      <td>20563</td>\n",
       "      <td>992</td>\n",
       "      <td>75</td>\n",
       "      <td>3</td>\n",
       "      <td>0</td>\n",
       "      <td>102</td>\n",
       "      <td>32045</td>\n",
       "      <td>41002</td>\n",
       "      <td>0.41</td>\n",
       "      <td>8</td>\n",
       "    </tr>\n",
       "    <tr>\n",
       "      <th>290734</th>\n",
       "      <td>34709</td>\n",
       "      <td>360</td>\n",
       "      <td>84</td>\n",
       "      <td>1</td>\n",
       "      <td>0</td>\n",
       "      <td>21</td>\n",
       "      <td>40066</td>\n",
       "      <td>20077</td>\n",
       "      <td>0.49</td>\n",
       "      <td>10</td>\n",
       "    </tr>\n",
       "    <tr>\n",
       "      <th>215368</th>\n",
       "      <td>34762</td>\n",
       "      <td>8081</td>\n",
       "      <td>84</td>\n",
       "      <td>1</td>\n",
       "      <td>0</td>\n",
       "      <td>112</td>\n",
       "      <td>30635</td>\n",
       "      <td>33782</td>\n",
       "      <td>0.49</td>\n",
       "      <td>8</td>\n",
       "    </tr>\n",
       "  </tbody>\n",
       "</table>\n",
       "</div>"
      ],
      "text/plain": [
       "        author  publisher  year  region  age_missing  country  user_id  \\\n",
       "171815   23301       6651    81       1            1      112     4543   \n",
       "221523   34788       6310    78       1            1      112    17226   \n",
       "290984   20563        992    75       3            0      102    32045   \n",
       "290734   34709        360    84       1            0       21    40066   \n",
       "215368   34762       8081    84       1            0      112    30635   \n",
       "\n",
       "        book_id   age  xgb_rating  \n",
       "171815    23449  0.00           8  \n",
       "221523   100589  0.00           8  \n",
       "290984    41002  0.41           8  \n",
       "290734    20077  0.49          10  \n",
       "215368    33782  0.49           8  "
      ]
     },
     "execution_count": 108,
     "metadata": {},
     "output_type": "execute_result"
    }
   ],
   "source": [
    "X_val.head()"
   ]
  },
  {
   "cell_type": "code",
   "execution_count": 109,
   "metadata": {},
   "outputs": [],
   "source": [
    "# train the model\n",
    "xgb_model = XGBRegressor()"
   ]
  },
  {
   "cell_type": "code",
   "execution_count": 110,
   "metadata": {},
   "outputs": [
    {
     "data": {
      "text/html": [
       "<style>#sk-container-id-3 {color: black;background-color: white;}#sk-container-id-3 pre{padding: 0;}#sk-container-id-3 div.sk-toggleable {background-color: white;}#sk-container-id-3 label.sk-toggleable__label {cursor: pointer;display: block;width: 100%;margin-bottom: 0;padding: 0.3em;box-sizing: border-box;text-align: center;}#sk-container-id-3 label.sk-toggleable__label-arrow:before {content: \"▸\";float: left;margin-right: 0.25em;color: #696969;}#sk-container-id-3 label.sk-toggleable__label-arrow:hover:before {color: black;}#sk-container-id-3 div.sk-estimator:hover label.sk-toggleable__label-arrow:before {color: black;}#sk-container-id-3 div.sk-toggleable__content {max-height: 0;max-width: 0;overflow: hidden;text-align: left;background-color: #f0f8ff;}#sk-container-id-3 div.sk-toggleable__content pre {margin: 0.2em;color: black;border-radius: 0.25em;background-color: #f0f8ff;}#sk-container-id-3 input.sk-toggleable__control:checked~div.sk-toggleable__content {max-height: 200px;max-width: 100%;overflow: auto;}#sk-container-id-3 input.sk-toggleable__control:checked~label.sk-toggleable__label-arrow:before {content: \"▾\";}#sk-container-id-3 div.sk-estimator input.sk-toggleable__control:checked~label.sk-toggleable__label {background-color: #d4ebff;}#sk-container-id-3 div.sk-label input.sk-toggleable__control:checked~label.sk-toggleable__label {background-color: #d4ebff;}#sk-container-id-3 input.sk-hidden--visually {border: 0;clip: rect(1px 1px 1px 1px);clip: rect(1px, 1px, 1px, 1px);height: 1px;margin: -1px;overflow: hidden;padding: 0;position: absolute;width: 1px;}#sk-container-id-3 div.sk-estimator {font-family: monospace;background-color: #f0f8ff;border: 1px dotted black;border-radius: 0.25em;box-sizing: border-box;margin-bottom: 0.5em;}#sk-container-id-3 div.sk-estimator:hover {background-color: #d4ebff;}#sk-container-id-3 div.sk-parallel-item::after {content: \"\";width: 100%;border-bottom: 1px solid gray;flex-grow: 1;}#sk-container-id-3 div.sk-label:hover label.sk-toggleable__label {background-color: #d4ebff;}#sk-container-id-3 div.sk-serial::before {content: \"\";position: absolute;border-left: 1px solid gray;box-sizing: border-box;top: 0;bottom: 0;left: 50%;z-index: 0;}#sk-container-id-3 div.sk-serial {display: flex;flex-direction: column;align-items: center;background-color: white;padding-right: 0.2em;padding-left: 0.2em;position: relative;}#sk-container-id-3 div.sk-item {position: relative;z-index: 1;}#sk-container-id-3 div.sk-parallel {display: flex;align-items: stretch;justify-content: center;background-color: white;position: relative;}#sk-container-id-3 div.sk-item::before, #sk-container-id-3 div.sk-parallel-item::before {content: \"\";position: absolute;border-left: 1px solid gray;box-sizing: border-box;top: 0;bottom: 0;left: 50%;z-index: -1;}#sk-container-id-3 div.sk-parallel-item {display: flex;flex-direction: column;z-index: 1;position: relative;background-color: white;}#sk-container-id-3 div.sk-parallel-item:first-child::after {align-self: flex-end;width: 50%;}#sk-container-id-3 div.sk-parallel-item:last-child::after {align-self: flex-start;width: 50%;}#sk-container-id-3 div.sk-parallel-item:only-child::after {width: 0;}#sk-container-id-3 div.sk-dashed-wrapped {border: 1px dashed gray;margin: 0 0.4em 0.5em 0.4em;box-sizing: border-box;padding-bottom: 0.4em;background-color: white;}#sk-container-id-3 div.sk-label label {font-family: monospace;font-weight: bold;display: inline-block;line-height: 1.2em;}#sk-container-id-3 div.sk-label-container {text-align: center;}#sk-container-id-3 div.sk-container {/* jupyter's `normalize.less` sets `[hidden] { display: none; }` but bootstrap.min.css set `[hidden] { display: none !important; }` so we also need the `!important` here to be able to override the default hidden behavior on the sphinx rendered scikit-learn.org. See: https://github.com/scikit-learn/scikit-learn/issues/21755 */display: inline-block !important;position: relative;}#sk-container-id-3 div.sk-text-repr-fallback {display: none;}</style><div id=\"sk-container-id-3\" class=\"sk-top-container\"><div class=\"sk-text-repr-fallback\"><pre>XGBRegressor(base_score=None, booster=None, callbacks=None,\n",
       "             colsample_bylevel=None, colsample_bynode=None,\n",
       "             colsample_bytree=None, early_stopping_rounds=None,\n",
       "             enable_categorical=False, eval_metric=None, feature_types=None,\n",
       "             gamma=None, gpu_id=None, grow_policy=None, importance_type=None,\n",
       "             interaction_constraints=None, learning_rate=None, max_bin=None,\n",
       "             max_cat_threshold=None, max_cat_to_onehot=None,\n",
       "             max_delta_step=None, max_depth=None, max_leaves=None,\n",
       "             min_child_weight=None, missing=nan, monotone_constraints=None,\n",
       "             n_estimators=100, n_jobs=None, num_parallel_tree=None,\n",
       "             predictor=None, random_state=None, ...)</pre><b>In a Jupyter environment, please rerun this cell to show the HTML representation or trust the notebook. <br />On GitHub, the HTML representation is unable to render, please try loading this page with nbviewer.org.</b></div><div class=\"sk-container\" hidden><div class=\"sk-item\"><div class=\"sk-estimator sk-toggleable\"><input class=\"sk-toggleable__control sk-hidden--visually\" id=\"sk-estimator-id-3\" type=\"checkbox\" checked><label for=\"sk-estimator-id-3\" class=\"sk-toggleable__label sk-toggleable__label-arrow\">XGBRegressor</label><div class=\"sk-toggleable__content\"><pre>XGBRegressor(base_score=None, booster=None, callbacks=None,\n",
       "             colsample_bylevel=None, colsample_bynode=None,\n",
       "             colsample_bytree=None, early_stopping_rounds=None,\n",
       "             enable_categorical=False, eval_metric=None, feature_types=None,\n",
       "             gamma=None, gpu_id=None, grow_policy=None, importance_type=None,\n",
       "             interaction_constraints=None, learning_rate=None, max_bin=None,\n",
       "             max_cat_threshold=None, max_cat_to_onehot=None,\n",
       "             max_delta_step=None, max_depth=None, max_leaves=None,\n",
       "             min_child_weight=None, missing=nan, monotone_constraints=None,\n",
       "             n_estimators=100, n_jobs=None, num_parallel_tree=None,\n",
       "             predictor=None, random_state=None, ...)</pre></div></div></div></div></div>"
      ],
      "text/plain": [
       "XGBRegressor(base_score=None, booster=None, callbacks=None,\n",
       "             colsample_bylevel=None, colsample_bynode=None,\n",
       "             colsample_bytree=None, early_stopping_rounds=None,\n",
       "             enable_categorical=False, eval_metric=None, feature_types=None,\n",
       "             gamma=None, gpu_id=None, grow_policy=None, importance_type=None,\n",
       "             interaction_constraints=None, learning_rate=None, max_bin=None,\n",
       "             max_cat_threshold=None, max_cat_to_onehot=None,\n",
       "             max_delta_step=None, max_depth=None, max_leaves=None,\n",
       "             min_child_weight=None, missing=nan, monotone_constraints=None,\n",
       "             n_estimators=100, n_jobs=None, num_parallel_tree=None,\n",
       "             predictor=None, random_state=None, ...)"
      ]
     },
     "execution_count": 110,
     "metadata": {},
     "output_type": "execute_result"
    }
   ],
   "source": [
    "xgb_model.fit(X_train, y_train)"
   ]
  },
  {
   "cell_type": "code",
   "execution_count": 111,
   "metadata": {},
   "outputs": [
    {
     "data": {
      "text/plain": [
       "array([7.3600583, 7.3082237, 7.437581 , ..., 7.210776 , 8.069264 ,\n",
       "       7.552676 ], dtype=float32)"
      ]
     },
     "execution_count": 111,
     "metadata": {},
     "output_type": "execute_result"
    }
   ],
   "source": [
    "# predict the ratings for the validation data\n",
    "predictions = xgb_model.predict(X_val)\n",
    "predictions"
   ]
  },
  {
   "cell_type": "code",
   "execution_count": 112,
   "metadata": {},
   "outputs": [
    {
     "name": "stdout",
     "output_type": "stream",
     "text": [
      "RMSE:  1.7510146228534578\n"
     ]
    }
   ],
   "source": [
    "# Calculate the RMSE\n",
    "rmse = sqrt(mean_squared_error(y_val, predictions))\n",
    "print(\"RMSE: \", rmse)"
   ]
  },
  {
   "cell_type": "code",
   "execution_count": 113,
   "metadata": {},
   "outputs": [],
   "source": [
    "X_test_xgb['xgb_rating'] = xgb_clf.predict(X_test_xgb) + 1\n"
   ]
  },
  {
   "cell_type": "code",
   "execution_count": 114,
   "metadata": {},
   "outputs": [],
   "source": [
    "# predict the ratings for the test data\n",
    "predictions = xgb_model.predict(X_test_xgb)"
   ]
  },
  {
   "cell_type": "code",
   "execution_count": 115,
   "metadata": {},
   "outputs": [
    {
     "data": {
      "text/plain": [
       "array([7.47733  , 7.6546597, 8.46654  , ..., 7.0320435, 7.406923 ,\n",
       "       7.650448 ], dtype=float32)"
      ]
     },
     "execution_count": 115,
     "metadata": {},
     "output_type": "execute_result"
    }
   ],
   "source": [
    "predictions"
   ]
  },
  {
   "cell_type": "code",
   "execution_count": 116,
   "metadata": {},
   "outputs": [],
   "source": [
    "submission = pd.read_csv(\"./dataset/sample_submission.csv\")"
   ]
  },
  {
   "cell_type": "code",
   "execution_count": 117,
   "metadata": {},
   "outputs": [],
   "source": [
    "submission['Rating'] = predictions\n",
    "\n",
    "submission.to_csv('submission_xgb_clf_xgb_reg.csv', index=False)"
   ]
  },
  {
   "cell_type": "markdown",
   "metadata": {},
   "source": [
    "## Grid search for best parameters for the XGBRegressor"
   ]
  },
  {
   "cell_type": "code",
   "execution_count": 118,
   "metadata": {},
   "outputs": [],
   "source": [
    "# drop the xgb_rating column\n",
    "X_train.drop('xgb_rating', axis=1, inplace=True)\n",
    "X_val.drop('xgb_rating', axis=1, inplace=True)"
   ]
  },
  {
   "cell_type": "code",
   "execution_count": 119,
   "metadata": {},
   "outputs": [],
   "source": [
    "param_grid = {'n_estimators': [1000, 5000], 'learning_rate': [0.05, 0.1, 0.15], 'max_depth': [7]}"
   ]
  },
  {
   "cell_type": "code",
   "execution_count": 120,
   "metadata": {},
   "outputs": [],
   "source": [
    "gs = GridSearchCV(xgb_model, param_grid, scoring='neg_mean_squared_error', cv=2, n_jobs=-1, verbose=10)"
   ]
  },
  {
   "cell_type": "code",
   "execution_count": 121,
   "metadata": {},
   "outputs": [
    {
     "name": "stdout",
     "output_type": "stream",
     "text": [
      "Fitting 2 folds for each of 6 candidates, totalling 12 fits\n",
      "[CV 2/2; 5/6] START learning_rate=0.15, max_depth=7, n_estimators=1000..........\n",
      "[CV 2/2; 5/6] END learning_rate=0.15, max_depth=7, n_estimators=1000;, score=-3.002 total time= 1.3min\n",
      "[CV 1/2; 5/6] START learning_rate=0.15, max_depth=7, n_estimators=1000..........\n",
      "[CV 1/2; 5/6] END learning_rate=0.15, max_depth=7, n_estimators=1000;, score=-3.000 total time= 1.3min\n",
      "[CV 1/2; 3/6] START learning_rate=0.1, max_depth=7, n_estimators=1000...........\n",
      "[CV 1/2; 3/6] END learning_rate=0.1, max_depth=7, n_estimators=1000;, score=-2.984 total time= 1.3min\n",
      "[CV 2/2; 3/6] START learning_rate=0.1, max_depth=7, n_estimators=1000...........\n",
      "[CV 2/2; 3/6] END learning_rate=0.1, max_depth=7, n_estimators=1000;, score=-2.990 total time= 1.3min\n"
     ]
    },
    {
     "data": {
      "text/html": [
       "<style>#sk-container-id-4 {color: black;background-color: white;}#sk-container-id-4 pre{padding: 0;}#sk-container-id-4 div.sk-toggleable {background-color: white;}#sk-container-id-4 label.sk-toggleable__label {cursor: pointer;display: block;width: 100%;margin-bottom: 0;padding: 0.3em;box-sizing: border-box;text-align: center;}#sk-container-id-4 label.sk-toggleable__label-arrow:before {content: \"▸\";float: left;margin-right: 0.25em;color: #696969;}#sk-container-id-4 label.sk-toggleable__label-arrow:hover:before {color: black;}#sk-container-id-4 div.sk-estimator:hover label.sk-toggleable__label-arrow:before {color: black;}#sk-container-id-4 div.sk-toggleable__content {max-height: 0;max-width: 0;overflow: hidden;text-align: left;background-color: #f0f8ff;}#sk-container-id-4 div.sk-toggleable__content pre {margin: 0.2em;color: black;border-radius: 0.25em;background-color: #f0f8ff;}#sk-container-id-4 input.sk-toggleable__control:checked~div.sk-toggleable__content {max-height: 200px;max-width: 100%;overflow: auto;}#sk-container-id-4 input.sk-toggleable__control:checked~label.sk-toggleable__label-arrow:before {content: \"▾\";}#sk-container-id-4 div.sk-estimator input.sk-toggleable__control:checked~label.sk-toggleable__label {background-color: #d4ebff;}#sk-container-id-4 div.sk-label input.sk-toggleable__control:checked~label.sk-toggleable__label {background-color: #d4ebff;}#sk-container-id-4 input.sk-hidden--visually {border: 0;clip: rect(1px 1px 1px 1px);clip: rect(1px, 1px, 1px, 1px);height: 1px;margin: -1px;overflow: hidden;padding: 0;position: absolute;width: 1px;}#sk-container-id-4 div.sk-estimator {font-family: monospace;background-color: #f0f8ff;border: 1px dotted black;border-radius: 0.25em;box-sizing: border-box;margin-bottom: 0.5em;}#sk-container-id-4 div.sk-estimator:hover {background-color: #d4ebff;}#sk-container-id-4 div.sk-parallel-item::after {content: \"\";width: 100%;border-bottom: 1px solid gray;flex-grow: 1;}#sk-container-id-4 div.sk-label:hover label.sk-toggleable__label {background-color: #d4ebff;}#sk-container-id-4 div.sk-serial::before {content: \"\";position: absolute;border-left: 1px solid gray;box-sizing: border-box;top: 0;bottom: 0;left: 50%;z-index: 0;}#sk-container-id-4 div.sk-serial {display: flex;flex-direction: column;align-items: center;background-color: white;padding-right: 0.2em;padding-left: 0.2em;position: relative;}#sk-container-id-4 div.sk-item {position: relative;z-index: 1;}#sk-container-id-4 div.sk-parallel {display: flex;align-items: stretch;justify-content: center;background-color: white;position: relative;}#sk-container-id-4 div.sk-item::before, #sk-container-id-4 div.sk-parallel-item::before {content: \"\";position: absolute;border-left: 1px solid gray;box-sizing: border-box;top: 0;bottom: 0;left: 50%;z-index: -1;}#sk-container-id-4 div.sk-parallel-item {display: flex;flex-direction: column;z-index: 1;position: relative;background-color: white;}#sk-container-id-4 div.sk-parallel-item:first-child::after {align-self: flex-end;width: 50%;}#sk-container-id-4 div.sk-parallel-item:last-child::after {align-self: flex-start;width: 50%;}#sk-container-id-4 div.sk-parallel-item:only-child::after {width: 0;}#sk-container-id-4 div.sk-dashed-wrapped {border: 1px dashed gray;margin: 0 0.4em 0.5em 0.4em;box-sizing: border-box;padding-bottom: 0.4em;background-color: white;}#sk-container-id-4 div.sk-label label {font-family: monospace;font-weight: bold;display: inline-block;line-height: 1.2em;}#sk-container-id-4 div.sk-label-container {text-align: center;}#sk-container-id-4 div.sk-container {/* jupyter's `normalize.less` sets `[hidden] { display: none; }` but bootstrap.min.css set `[hidden] { display: none !important; }` so we also need the `!important` here to be able to override the default hidden behavior on the sphinx rendered scikit-learn.org. See: https://github.com/scikit-learn/scikit-learn/issues/21755 */display: inline-block !important;position: relative;}#sk-container-id-4 div.sk-text-repr-fallback {display: none;}</style><div id=\"sk-container-id-4\" class=\"sk-top-container\"><div class=\"sk-text-repr-fallback\"><pre>GridSearchCV(cv=2,\n",
       "             estimator=XGBRegressor(base_score=None, booster=None,\n",
       "                                    callbacks=None, colsample_bylevel=None,\n",
       "                                    colsample_bynode=None,\n",
       "                                    colsample_bytree=None,\n",
       "                                    early_stopping_rounds=None,\n",
       "                                    enable_categorical=False, eval_metric=None,\n",
       "                                    feature_types=None, gamma=None, gpu_id=None,\n",
       "                                    grow_policy=None, importance_type=None,\n",
       "                                    interaction_constraints=None,\n",
       "                                    learning_rate=None, m...\n",
       "                                    max_cat_to_onehot=None, max_delta_step=None,\n",
       "                                    max_depth=None, max_leaves=None,\n",
       "                                    min_child_weight=None, missing=nan,\n",
       "                                    monotone_constraints=None, n_estimators=100,\n",
       "                                    n_jobs=None, num_parallel_tree=None,\n",
       "                                    predictor=None, random_state=None, ...),\n",
       "             n_jobs=-1,\n",
       "             param_grid={&#x27;learning_rate&#x27;: [0.05, 0.1, 0.15], &#x27;max_depth&#x27;: [7],\n",
       "                         &#x27;n_estimators&#x27;: [1000, 5000]},\n",
       "             scoring=&#x27;neg_mean_squared_error&#x27;, verbose=10)</pre><b>In a Jupyter environment, please rerun this cell to show the HTML representation or trust the notebook. <br />On GitHub, the HTML representation is unable to render, please try loading this page with nbviewer.org.</b></div><div class=\"sk-container\" hidden><div class=\"sk-item sk-dashed-wrapped\"><div class=\"sk-label-container\"><div class=\"sk-label sk-toggleable\"><input class=\"sk-toggleable__control sk-hidden--visually\" id=\"sk-estimator-id-4\" type=\"checkbox\" ><label for=\"sk-estimator-id-4\" class=\"sk-toggleable__label sk-toggleable__label-arrow\">GridSearchCV</label><div class=\"sk-toggleable__content\"><pre>GridSearchCV(cv=2,\n",
       "             estimator=XGBRegressor(base_score=None, booster=None,\n",
       "                                    callbacks=None, colsample_bylevel=None,\n",
       "                                    colsample_bynode=None,\n",
       "                                    colsample_bytree=None,\n",
       "                                    early_stopping_rounds=None,\n",
       "                                    enable_categorical=False, eval_metric=None,\n",
       "                                    feature_types=None, gamma=None, gpu_id=None,\n",
       "                                    grow_policy=None, importance_type=None,\n",
       "                                    interaction_constraints=None,\n",
       "                                    learning_rate=None, m...\n",
       "                                    max_cat_to_onehot=None, max_delta_step=None,\n",
       "                                    max_depth=None, max_leaves=None,\n",
       "                                    min_child_weight=None, missing=nan,\n",
       "                                    monotone_constraints=None, n_estimators=100,\n",
       "                                    n_jobs=None, num_parallel_tree=None,\n",
       "                                    predictor=None, random_state=None, ...),\n",
       "             n_jobs=-1,\n",
       "             param_grid={&#x27;learning_rate&#x27;: [0.05, 0.1, 0.15], &#x27;max_depth&#x27;: [7],\n",
       "                         &#x27;n_estimators&#x27;: [1000, 5000]},\n",
       "             scoring=&#x27;neg_mean_squared_error&#x27;, verbose=10)</pre></div></div></div><div class=\"sk-parallel\"><div class=\"sk-parallel-item\"><div class=\"sk-item\"><div class=\"sk-label-container\"><div class=\"sk-label sk-toggleable\"><input class=\"sk-toggleable__control sk-hidden--visually\" id=\"sk-estimator-id-5\" type=\"checkbox\" ><label for=\"sk-estimator-id-5\" class=\"sk-toggleable__label sk-toggleable__label-arrow\">estimator: XGBRegressor</label><div class=\"sk-toggleable__content\"><pre>XGBRegressor(base_score=None, booster=None, callbacks=None,\n",
       "             colsample_bylevel=None, colsample_bynode=None,\n",
       "             colsample_bytree=None, early_stopping_rounds=None,\n",
       "             enable_categorical=False, eval_metric=None, feature_types=None,\n",
       "             gamma=None, gpu_id=None, grow_policy=None, importance_type=None,\n",
       "             interaction_constraints=None, learning_rate=None, max_bin=None,\n",
       "             max_cat_threshold=None, max_cat_to_onehot=None,\n",
       "             max_delta_step=None, max_depth=None, max_leaves=None,\n",
       "             min_child_weight=None, missing=nan, monotone_constraints=None,\n",
       "             n_estimators=100, n_jobs=None, num_parallel_tree=None,\n",
       "             predictor=None, random_state=None, ...)</pre></div></div></div><div class=\"sk-serial\"><div class=\"sk-item\"><div class=\"sk-estimator sk-toggleable\"><input class=\"sk-toggleable__control sk-hidden--visually\" id=\"sk-estimator-id-6\" type=\"checkbox\" ><label for=\"sk-estimator-id-6\" class=\"sk-toggleable__label sk-toggleable__label-arrow\">XGBRegressor</label><div class=\"sk-toggleable__content\"><pre>XGBRegressor(base_score=None, booster=None, callbacks=None,\n",
       "             colsample_bylevel=None, colsample_bynode=None,\n",
       "             colsample_bytree=None, early_stopping_rounds=None,\n",
       "             enable_categorical=False, eval_metric=None, feature_types=None,\n",
       "             gamma=None, gpu_id=None, grow_policy=None, importance_type=None,\n",
       "             interaction_constraints=None, learning_rate=None, max_bin=None,\n",
       "             max_cat_threshold=None, max_cat_to_onehot=None,\n",
       "             max_delta_step=None, max_depth=None, max_leaves=None,\n",
       "             min_child_weight=None, missing=nan, monotone_constraints=None,\n",
       "             n_estimators=100, n_jobs=None, num_parallel_tree=None,\n",
       "             predictor=None, random_state=None, ...)</pre></div></div></div></div></div></div></div></div></div></div>"
      ],
      "text/plain": [
       "GridSearchCV(cv=2,\n",
       "             estimator=XGBRegressor(base_score=None, booster=None,\n",
       "                                    callbacks=None, colsample_bylevel=None,\n",
       "                                    colsample_bynode=None,\n",
       "                                    colsample_bytree=None,\n",
       "                                    early_stopping_rounds=None,\n",
       "                                    enable_categorical=False, eval_metric=None,\n",
       "                                    feature_types=None, gamma=None, gpu_id=None,\n",
       "                                    grow_policy=None, importance_type=None,\n",
       "                                    interaction_constraints=None,\n",
       "                                    learning_rate=None, m...\n",
       "                                    max_cat_to_onehot=None, max_delta_step=None,\n",
       "                                    max_depth=None, max_leaves=None,\n",
       "                                    min_child_weight=None, missing=nan,\n",
       "                                    monotone_constraints=None, n_estimators=100,\n",
       "                                    n_jobs=None, num_parallel_tree=None,\n",
       "                                    predictor=None, random_state=None, ...),\n",
       "             n_jobs=-1,\n",
       "             param_grid={'learning_rate': [0.05, 0.1, 0.15], 'max_depth': [7],\n",
       "                         'n_estimators': [1000, 5000]},\n",
       "             scoring='neg_mean_squared_error', verbose=10)"
      ]
     },
     "execution_count": 121,
     "metadata": {},
     "output_type": "execute_result"
    }
   ],
   "source": [
    "gs.fit(X_train, y_train)"
   ]
  },
  {
   "cell_type": "code",
   "execution_count": 122,
   "metadata": {},
   "outputs": [
    {
     "name": "stdout",
     "output_type": "stream",
     "text": [
      "Best RMSE: 1.7283323784695503\n",
      "Best hyperparameters: {'learning_rate': 0.1, 'max_depth': 7, 'n_estimators': 1000}\n"
     ]
    }
   ],
   "source": [
    "# Get the best set of hyperparameters\n",
    "best_params = gs.best_params_\n",
    "print('Best RMSE:', sqrt(-gs.best_score_))\n",
    "print('Best hyperparameters:', best_params)"
   ]
  },
  {
   "cell_type": "code",
   "execution_count": 123,
   "metadata": {},
   "outputs": [],
   "source": [
    "# train the model\n",
    "xgb_model = XGBRegressor(n_estimators=best_params['n_estimators'], learning_rate=best_params['learning_rate'], max_depth=best_params['max_depth'])"
   ]
  },
  {
   "cell_type": "code",
   "execution_count": 124,
   "metadata": {},
   "outputs": [],
   "source": [
    "X_train['xgb_clf_rating'] = xgb_clf.predict(X_train) + 1\n",
    "X_val['xgb_clf_rating'] = xgb_clf.predict(X_val) + 1\n",
    "\n",
    "X_train['svd_rating'] = X_train.apply(lambda row: svd.predict(row['user_id'], row['book_id']).est, axis=1)\n",
    "X_val['svd_rating'] = X_val.apply(lambda row: svd.predict(row['user_id'], row['book_id']).est, axis=1)"
   ]
  },
  {
   "cell_type": "code",
   "execution_count": 125,
   "metadata": {},
   "outputs": [],
   "source": [
    "# scale the ratings\n",
    "X_train['svd_rating'] = scaler.fit_transform(X_train['svd_rating'].values.reshape(-1, 1))\n",
    "X_val['svd_rating'] = scaler.fit_transform(X_val['svd_rating'].values.reshape(-1, 1))\n",
    "\n",
    "X_train['xgb_clf_rating'] = scaler.fit_transform(X_train['xgb_clf_rating'].values.reshape(-1, 1))\n",
    "X_val['xgb_clf_rating'] = scaler.fit_transform(X_val['xgb_clf_rating'].values.reshape(-1, 1))"
   ]
  },
  {
   "cell_type": "code",
   "execution_count": 126,
   "metadata": {},
   "outputs": [
    {
     "data": {
      "text/html": [
       "<style>#sk-container-id-5 {color: black;background-color: white;}#sk-container-id-5 pre{padding: 0;}#sk-container-id-5 div.sk-toggleable {background-color: white;}#sk-container-id-5 label.sk-toggleable__label {cursor: pointer;display: block;width: 100%;margin-bottom: 0;padding: 0.3em;box-sizing: border-box;text-align: center;}#sk-container-id-5 label.sk-toggleable__label-arrow:before {content: \"▸\";float: left;margin-right: 0.25em;color: #696969;}#sk-container-id-5 label.sk-toggleable__label-arrow:hover:before {color: black;}#sk-container-id-5 div.sk-estimator:hover label.sk-toggleable__label-arrow:before {color: black;}#sk-container-id-5 div.sk-toggleable__content {max-height: 0;max-width: 0;overflow: hidden;text-align: left;background-color: #f0f8ff;}#sk-container-id-5 div.sk-toggleable__content pre {margin: 0.2em;color: black;border-radius: 0.25em;background-color: #f0f8ff;}#sk-container-id-5 input.sk-toggleable__control:checked~div.sk-toggleable__content {max-height: 200px;max-width: 100%;overflow: auto;}#sk-container-id-5 input.sk-toggleable__control:checked~label.sk-toggleable__label-arrow:before {content: \"▾\";}#sk-container-id-5 div.sk-estimator input.sk-toggleable__control:checked~label.sk-toggleable__label {background-color: #d4ebff;}#sk-container-id-5 div.sk-label input.sk-toggleable__control:checked~label.sk-toggleable__label {background-color: #d4ebff;}#sk-container-id-5 input.sk-hidden--visually {border: 0;clip: rect(1px 1px 1px 1px);clip: rect(1px, 1px, 1px, 1px);height: 1px;margin: -1px;overflow: hidden;padding: 0;position: absolute;width: 1px;}#sk-container-id-5 div.sk-estimator {font-family: monospace;background-color: #f0f8ff;border: 1px dotted black;border-radius: 0.25em;box-sizing: border-box;margin-bottom: 0.5em;}#sk-container-id-5 div.sk-estimator:hover {background-color: #d4ebff;}#sk-container-id-5 div.sk-parallel-item::after {content: \"\";width: 100%;border-bottom: 1px solid gray;flex-grow: 1;}#sk-container-id-5 div.sk-label:hover label.sk-toggleable__label {background-color: #d4ebff;}#sk-container-id-5 div.sk-serial::before {content: \"\";position: absolute;border-left: 1px solid gray;box-sizing: border-box;top: 0;bottom: 0;left: 50%;z-index: 0;}#sk-container-id-5 div.sk-serial {display: flex;flex-direction: column;align-items: center;background-color: white;padding-right: 0.2em;padding-left: 0.2em;position: relative;}#sk-container-id-5 div.sk-item {position: relative;z-index: 1;}#sk-container-id-5 div.sk-parallel {display: flex;align-items: stretch;justify-content: center;background-color: white;position: relative;}#sk-container-id-5 div.sk-item::before, #sk-container-id-5 div.sk-parallel-item::before {content: \"\";position: absolute;border-left: 1px solid gray;box-sizing: border-box;top: 0;bottom: 0;left: 50%;z-index: -1;}#sk-container-id-5 div.sk-parallel-item {display: flex;flex-direction: column;z-index: 1;position: relative;background-color: white;}#sk-container-id-5 div.sk-parallel-item:first-child::after {align-self: flex-end;width: 50%;}#sk-container-id-5 div.sk-parallel-item:last-child::after {align-self: flex-start;width: 50%;}#sk-container-id-5 div.sk-parallel-item:only-child::after {width: 0;}#sk-container-id-5 div.sk-dashed-wrapped {border: 1px dashed gray;margin: 0 0.4em 0.5em 0.4em;box-sizing: border-box;padding-bottom: 0.4em;background-color: white;}#sk-container-id-5 div.sk-label label {font-family: monospace;font-weight: bold;display: inline-block;line-height: 1.2em;}#sk-container-id-5 div.sk-label-container {text-align: center;}#sk-container-id-5 div.sk-container {/* jupyter's `normalize.less` sets `[hidden] { display: none; }` but bootstrap.min.css set `[hidden] { display: none !important; }` so we also need the `!important` here to be able to override the default hidden behavior on the sphinx rendered scikit-learn.org. See: https://github.com/scikit-learn/scikit-learn/issues/21755 */display: inline-block !important;position: relative;}#sk-container-id-5 div.sk-text-repr-fallback {display: none;}</style><div id=\"sk-container-id-5\" class=\"sk-top-container\"><div class=\"sk-text-repr-fallback\"><pre>XGBRegressor(base_score=None, booster=None, callbacks=None,\n",
       "             colsample_bylevel=None, colsample_bynode=None,\n",
       "             colsample_bytree=None, early_stopping_rounds=None,\n",
       "             enable_categorical=False, eval_metric=None, feature_types=None,\n",
       "             gamma=None, gpu_id=None, grow_policy=None, importance_type=None,\n",
       "             interaction_constraints=None, learning_rate=0.1, max_bin=None,\n",
       "             max_cat_threshold=None, max_cat_to_onehot=None,\n",
       "             max_delta_step=None, max_depth=7, max_leaves=None,\n",
       "             min_child_weight=None, missing=nan, monotone_constraints=None,\n",
       "             n_estimators=1000, n_jobs=None, num_parallel_tree=None,\n",
       "             predictor=None, random_state=None, ...)</pre><b>In a Jupyter environment, please rerun this cell to show the HTML representation or trust the notebook. <br />On GitHub, the HTML representation is unable to render, please try loading this page with nbviewer.org.</b></div><div class=\"sk-container\" hidden><div class=\"sk-item\"><div class=\"sk-estimator sk-toggleable\"><input class=\"sk-toggleable__control sk-hidden--visually\" id=\"sk-estimator-id-7\" type=\"checkbox\" checked><label for=\"sk-estimator-id-7\" class=\"sk-toggleable__label sk-toggleable__label-arrow\">XGBRegressor</label><div class=\"sk-toggleable__content\"><pre>XGBRegressor(base_score=None, booster=None, callbacks=None,\n",
       "             colsample_bylevel=None, colsample_bynode=None,\n",
       "             colsample_bytree=None, early_stopping_rounds=None,\n",
       "             enable_categorical=False, eval_metric=None, feature_types=None,\n",
       "             gamma=None, gpu_id=None, grow_policy=None, importance_type=None,\n",
       "             interaction_constraints=None, learning_rate=0.1, max_bin=None,\n",
       "             max_cat_threshold=None, max_cat_to_onehot=None,\n",
       "             max_delta_step=None, max_depth=7, max_leaves=None,\n",
       "             min_child_weight=None, missing=nan, monotone_constraints=None,\n",
       "             n_estimators=1000, n_jobs=None, num_parallel_tree=None,\n",
       "             predictor=None, random_state=None, ...)</pre></div></div></div></div></div>"
      ],
      "text/plain": [
       "XGBRegressor(base_score=None, booster=None, callbacks=None,\n",
       "             colsample_bylevel=None, colsample_bynode=None,\n",
       "             colsample_bytree=None, early_stopping_rounds=None,\n",
       "             enable_categorical=False, eval_metric=None, feature_types=None,\n",
       "             gamma=None, gpu_id=None, grow_policy=None, importance_type=None,\n",
       "             interaction_constraints=None, learning_rate=0.1, max_bin=None,\n",
       "             max_cat_threshold=None, max_cat_to_onehot=None,\n",
       "             max_delta_step=None, max_depth=7, max_leaves=None,\n",
       "             min_child_weight=None, missing=nan, monotone_constraints=None,\n",
       "             n_estimators=1000, n_jobs=None, num_parallel_tree=None,\n",
       "             predictor=None, random_state=None, ...)"
      ]
     },
     "execution_count": 126,
     "metadata": {},
     "output_type": "execute_result"
    }
   ],
   "source": [
    "xgb_model.fit(X_train, y_train)"
   ]
  },
  {
   "cell_type": "code",
   "execution_count": 127,
   "metadata": {},
   "outputs": [
    {
     "data": {
      "text/plain": [
       "array([7.2960134, 7.071744 , 8.0080805, ..., 7.3103766, 7.946098 ,\n",
       "       7.6988373], dtype=float32)"
      ]
     },
     "execution_count": 127,
     "metadata": {},
     "output_type": "execute_result"
    }
   ],
   "source": [
    "# predict the ratings for the validation data\n",
    "predictions = xgb_model.predict(X_val)\n",
    "predictions"
   ]
  },
  {
   "cell_type": "code",
   "execution_count": 128,
   "metadata": {},
   "outputs": [
    {
     "name": "stdout",
     "output_type": "stream",
     "text": [
      "RMSE:  1.732692037237727\n"
     ]
    }
   ],
   "source": [
    "# Calculate the RMSE\n",
    "rmse = sqrt(mean_squared_error(y_val, predictions))\n",
    "print(\"RMSE: \", rmse)"
   ]
  },
  {
   "cell_type": "code",
   "execution_count": 129,
   "metadata": {},
   "outputs": [],
   "source": [
    "X_test_xgb.drop('xgb_rating', axis=1, inplace=True)"
   ]
  },
  {
   "cell_type": "code",
   "execution_count": 130,
   "metadata": {},
   "outputs": [],
   "source": [
    "X_test_xgb['xgb_clf_rating'] = xgb_clf.predict(X_test_xgb) + 1\n",
    "X_test_xgb['svd_rating'] = X_test_xgb.apply(lambda row: svd.predict(row['user_id'], row['book_id']).est, axis=1)"
   ]
  },
  {
   "cell_type": "code",
   "execution_count": 131,
   "metadata": {},
   "outputs": [],
   "source": [
    "# scale the ratings\n",
    "X_test_xgb['svd_rating'] = scaler.fit_transform(X_test_xgb['svd_rating'].values.reshape(-1, 1))\n",
    "X_test_xgb['xgb_clf_rating'] = scaler.fit_transform(X_test_xgb['xgb_clf_rating'].values.reshape(-1, 1))"
   ]
  },
  {
   "cell_type": "code",
   "execution_count": 132,
   "metadata": {},
   "outputs": [
    {
     "data": {
      "text/plain": [
       "array([6.276332 , 7.56016  , 8.276598 , ..., 6.1802816, 7.1553493,\n",
       "       7.3081765], dtype=float32)"
      ]
     },
     "execution_count": 132,
     "metadata": {},
     "output_type": "execute_result"
    }
   ],
   "source": [
    "# predict the ratings for the test data\n",
    "predictions = xgb_model.predict(X_test_xgb)\n",
    "predictions"
   ]
  },
  {
   "cell_type": "code",
   "execution_count": 133,
   "metadata": {},
   "outputs": [],
   "source": [
    "submission = pd.read_csv(\"./dataset/sample_submission.csv\")\n",
    "\n",
    "submission['Rating'] = predictions\n",
    "\n",
    "submission.to_csv('submission_xgb_clf_svd_xgb_reg.csv', index=False)"
   ]
  },
  {
   "cell_type": "code",
   "execution_count": 134,
   "metadata": {},
   "outputs": [],
   "source": [
    "# average rating of SVD and XGBRegressor\n",
    "submission_xgb = pd.read_csv('submission_xgb.csv')\n",
    "submission_svd = pd.read_csv('submission_svd.csv')\n",
    "\n",
    "submission['Rating'] = (submission_xgb['Rating'] + submission_svd['Rating']) / 2\n",
    "\n",
    "submission.to_csv('submission_xgb_svd_avg.csv', index=False)"
   ]
  },
  {
   "cell_type": "code",
   "execution_count": 135,
   "metadata": {},
   "outputs": [],
   "source": [
    "# average rating of SVD, XGBClassifier and XGBRegressor\n",
    "submission_xgb_clf = pd.read_csv('submission_xgb_clf.csv')\n",
    "\n",
    "submission['Rating'] = (submission_xgb['Rating'] * 0.3 + submission_svd['Rating'] * 0.4 + submission_xgb_clf['Rating'] * 0.3)\n",
    "\n",
    "submission.to_csv('submission_xgb_svd_xgb_clf_avg.csv', index=False)"
   ]
  },
  {
   "cell_type": "code",
   "execution_count": 136,
   "metadata": {},
   "outputs": [],
   "source": [
    "# average rating of SVD, XGBClassifier\n",
    "submission_xgb_clf = pd.read_csv('submission_xgb_clf.csv')\n",
    "\n",
    "submission['Rating'] = (submission_svd['Rating'] * 0.6 + submission_xgb_clf['Rating'] * 0.4)\n",
    "\n",
    "submission.to_csv('submission_svd_xgb_clf_weighted_avg.csv', index=False)"
   ]
  },
  {
   "cell_type": "code",
   "execution_count": 137,
   "metadata": {},
   "outputs": [],
   "source": [
    "# average rating of SVD, XGBClassifier\n",
    "submission_xgb_clf = pd.read_csv('submission_xgb_clf.csv')\n",
    "\n",
    "submission['Rating'] = (submission_svd['Rating'] + submission_xgb_clf['Rating']) / 2\n",
    "\n",
    "submission.to_csv('submission_svd_xgb_clf_avg.csv', index=False)"
   ]
  },
  {
   "cell_type": "code",
   "execution_count": 138,
   "metadata": {},
   "outputs": [],
   "source": [
    "from math import floor, ceil\n",
    "\n",
    "def round_rating_to_nearest_even(rating):\n",
    "    \"\"\"\n",
    "    7.36 -> 7\n",
    "    7.64 -> 7.5\n",
    "    7.5 -> 7.5\n",
    "    6.5 -> 6.5\n",
    "    6.4 -> 6\n",
    "    6.6 -> 7\n",
    "    \"\"\"\n",
    "    if rating % 1 == 0:\n",
    "        return rating\n",
    "    elif 0 < rating % 1 <= 0.25:\n",
    "        return floor(rating)\n",
    "    elif 0.25 < rating % 1 <= 0.75:\n",
    "        return floor(rating) + 0.5\n",
    "    else:\n",
    "        return ceil(rating)"
   ]
  },
  {
   "cell_type": "code",
   "execution_count": 139,
   "metadata": {},
   "outputs": [],
   "source": [
    "submission['Rating'] = submission_svd['Rating'].apply(round_rating_to_nearest_even)\n",
    "\n",
    "submission.to_csv('submission_svd_rounded.csv', index=False)"
   ]
  },
  {
   "cell_type": "code",
   "execution_count": 139,
   "metadata": {},
   "outputs": [],
   "source": []
  }
 ],
 "metadata": {
  "kernelspec": {
   "display_name": "Python 3 (ipykernel)",
   "language": "python",
   "name": "python3"
  },
  "language_info": {
   "codemirror_mode": {
    "name": "ipython",
    "version": 3
   },
   "file_extension": ".py",
   "mimetype": "text/x-python",
   "name": "python",
   "nbconvert_exporter": "python",
   "pygments_lexer": "ipython3",
   "version": "3.8.16"
  }
 },
 "nbformat": 4,
 "nbformat_minor": 1
}
